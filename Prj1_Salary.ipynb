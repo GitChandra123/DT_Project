{
 "cells": [
  {
   "cell_type": "code",
   "execution_count": 452,
   "metadata": {},
   "outputs": [],
   "source": [
    "import numpy as np\n",
    "import pandas as pd\n",
    "import matplotlib.pyplot as plt\n",
    "\n",
    "import seaborn as sns\n",
    "import sklearn"
   ]
  },
  {
   "cell_type": "code",
   "execution_count": 453,
   "metadata": {},
   "outputs": [
    {
     "name": "stdout",
     "output_type": "stream",
     "text": [
      "              Name            Team  Number Position  Age     DOJ  Weight  \\\n",
      "0    Avery Bradley  Boston Celtics       0       PG   25  06-Feb     180   \n",
      "1      Jae Crowder  Boston Celtics      99       SF   25  06-Jun     235   \n",
      "2     John Holland  Boston Celtics      30       SG   27  06-May     205   \n",
      "3      R.J. Hunter  Boston Celtics      28       SG   22  06-May     185   \n",
      "4    Jonas Jerebko  Boston Celtics       8       PF   29  06-Oct     231   \n",
      "..             ...             ...     ...      ...  ...     ...     ...   \n",
      "452     Trey Lyles       Utah Jazz      41       PF   20  06-Oct     234   \n",
      "453   Shelvin Mack       Utah Jazz       8       PG   26  06-Mar     203   \n",
      "454      Raul Neto       Utah Jazz      25       PG   24  06-Jan     179   \n",
      "455   Tibor Pleiss       Utah Jazz      21        C   26  07-Mar     256   \n",
      "456    Jeff Withey       Utah Jazz      24        C   26     7-0     231   \n",
      "\n",
      "               College     Salary  \n",
      "0                Texas  7730337.0  \n",
      "1            Marquette  6796117.0  \n",
      "2    Boston University        NaN  \n",
      "3        Georgia State  1148640.0  \n",
      "4                  NaN  5000000.0  \n",
      "..                 ...        ...  \n",
      "452           Kentucky  2239800.0  \n",
      "453             Butler  2433333.0  \n",
      "454                NaN   900000.0  \n",
      "455                NaN  2900000.0  \n",
      "456             Kansas   947276.0  \n",
      "\n",
      "[457 rows x 9 columns]\n"
     ]
    }
   ],
   "source": [
    "# Reading csv file\n",
    "MSal_ds = pd.read_csv('MNC_salaries.csv')\n",
    "print (MSal_ds)"
   ]
  },
  {
   "cell_type": "code",
   "execution_count": 454,
   "metadata": {},
   "outputs": [
    {
     "data": {
      "text/html": [
       "<div>\n",
       "<style scoped>\n",
       "    .dataframe tbody tr th:only-of-type {\n",
       "        vertical-align: middle;\n",
       "    }\n",
       "\n",
       "    .dataframe tbody tr th {\n",
       "        vertical-align: top;\n",
       "    }\n",
       "\n",
       "    .dataframe thead th {\n",
       "        text-align: right;\n",
       "    }\n",
       "</style>\n",
       "<table border=\"1\" class=\"dataframe\">\n",
       "  <thead>\n",
       "    <tr style=\"text-align: right;\">\n",
       "      <th></th>\n",
       "      <th>Name</th>\n",
       "      <th>Team</th>\n",
       "      <th>Number</th>\n",
       "      <th>Position</th>\n",
       "      <th>Age</th>\n",
       "      <th>DOJ</th>\n",
       "      <th>Weight</th>\n",
       "      <th>College</th>\n",
       "      <th>Salary</th>\n",
       "    </tr>\n",
       "  </thead>\n",
       "  <tbody>\n",
       "    <tr>\n",
       "      <th>0</th>\n",
       "      <td>Avery Bradley</td>\n",
       "      <td>Boston Celtics</td>\n",
       "      <td>0</td>\n",
       "      <td>PG</td>\n",
       "      <td>25</td>\n",
       "      <td>06-Feb</td>\n",
       "      <td>180</td>\n",
       "      <td>Texas</td>\n",
       "      <td>7730337.0</td>\n",
       "    </tr>\n",
       "    <tr>\n",
       "      <th>1</th>\n",
       "      <td>Jae Crowder</td>\n",
       "      <td>Boston Celtics</td>\n",
       "      <td>99</td>\n",
       "      <td>SF</td>\n",
       "      <td>25</td>\n",
       "      <td>06-Jun</td>\n",
       "      <td>235</td>\n",
       "      <td>Marquette</td>\n",
       "      <td>6796117.0</td>\n",
       "    </tr>\n",
       "    <tr>\n",
       "      <th>2</th>\n",
       "      <td>John Holland</td>\n",
       "      <td>Boston Celtics</td>\n",
       "      <td>30</td>\n",
       "      <td>SG</td>\n",
       "      <td>27</td>\n",
       "      <td>06-May</td>\n",
       "      <td>205</td>\n",
       "      <td>Boston University</td>\n",
       "      <td>NaN</td>\n",
       "    </tr>\n",
       "    <tr>\n",
       "      <th>3</th>\n",
       "      <td>R.J. Hunter</td>\n",
       "      <td>Boston Celtics</td>\n",
       "      <td>28</td>\n",
       "      <td>SG</td>\n",
       "      <td>22</td>\n",
       "      <td>06-May</td>\n",
       "      <td>185</td>\n",
       "      <td>Georgia State</td>\n",
       "      <td>1148640.0</td>\n",
       "    </tr>\n",
       "    <tr>\n",
       "      <th>4</th>\n",
       "      <td>Jonas Jerebko</td>\n",
       "      <td>Boston Celtics</td>\n",
       "      <td>8</td>\n",
       "      <td>PF</td>\n",
       "      <td>29</td>\n",
       "      <td>06-Oct</td>\n",
       "      <td>231</td>\n",
       "      <td>NaN</td>\n",
       "      <td>5000000.0</td>\n",
       "    </tr>\n",
       "    <tr>\n",
       "      <th>...</th>\n",
       "      <td>...</td>\n",
       "      <td>...</td>\n",
       "      <td>...</td>\n",
       "      <td>...</td>\n",
       "      <td>...</td>\n",
       "      <td>...</td>\n",
       "      <td>...</td>\n",
       "      <td>...</td>\n",
       "      <td>...</td>\n",
       "    </tr>\n",
       "    <tr>\n",
       "      <th>452</th>\n",
       "      <td>Trey Lyles</td>\n",
       "      <td>Utah Jazz</td>\n",
       "      <td>41</td>\n",
       "      <td>PF</td>\n",
       "      <td>20</td>\n",
       "      <td>06-Oct</td>\n",
       "      <td>234</td>\n",
       "      <td>Kentucky</td>\n",
       "      <td>2239800.0</td>\n",
       "    </tr>\n",
       "    <tr>\n",
       "      <th>453</th>\n",
       "      <td>Shelvin Mack</td>\n",
       "      <td>Utah Jazz</td>\n",
       "      <td>8</td>\n",
       "      <td>PG</td>\n",
       "      <td>26</td>\n",
       "      <td>06-Mar</td>\n",
       "      <td>203</td>\n",
       "      <td>Butler</td>\n",
       "      <td>2433333.0</td>\n",
       "    </tr>\n",
       "    <tr>\n",
       "      <th>454</th>\n",
       "      <td>Raul Neto</td>\n",
       "      <td>Utah Jazz</td>\n",
       "      <td>25</td>\n",
       "      <td>PG</td>\n",
       "      <td>24</td>\n",
       "      <td>06-Jan</td>\n",
       "      <td>179</td>\n",
       "      <td>NaN</td>\n",
       "      <td>900000.0</td>\n",
       "    </tr>\n",
       "    <tr>\n",
       "      <th>455</th>\n",
       "      <td>Tibor Pleiss</td>\n",
       "      <td>Utah Jazz</td>\n",
       "      <td>21</td>\n",
       "      <td>C</td>\n",
       "      <td>26</td>\n",
       "      <td>07-Mar</td>\n",
       "      <td>256</td>\n",
       "      <td>NaN</td>\n",
       "      <td>2900000.0</td>\n",
       "    </tr>\n",
       "    <tr>\n",
       "      <th>456</th>\n",
       "      <td>Jeff Withey</td>\n",
       "      <td>Utah Jazz</td>\n",
       "      <td>24</td>\n",
       "      <td>C</td>\n",
       "      <td>26</td>\n",
       "      <td>7-0</td>\n",
       "      <td>231</td>\n",
       "      <td>Kansas</td>\n",
       "      <td>947276.0</td>\n",
       "    </tr>\n",
       "  </tbody>\n",
       "</table>\n",
       "<p>457 rows × 9 columns</p>\n",
       "</div>"
      ],
      "text/plain": [
       "              Name            Team  Number Position  Age     DOJ  Weight  \\\n",
       "0    Avery Bradley  Boston Celtics       0       PG   25  06-Feb     180   \n",
       "1      Jae Crowder  Boston Celtics      99       SF   25  06-Jun     235   \n",
       "2     John Holland  Boston Celtics      30       SG   27  06-May     205   \n",
       "3      R.J. Hunter  Boston Celtics      28       SG   22  06-May     185   \n",
       "4    Jonas Jerebko  Boston Celtics       8       PF   29  06-Oct     231   \n",
       "..             ...             ...     ...      ...  ...     ...     ...   \n",
       "452     Trey Lyles       Utah Jazz      41       PF   20  06-Oct     234   \n",
       "453   Shelvin Mack       Utah Jazz       8       PG   26  06-Mar     203   \n",
       "454      Raul Neto       Utah Jazz      25       PG   24  06-Jan     179   \n",
       "455   Tibor Pleiss       Utah Jazz      21        C   26  07-Mar     256   \n",
       "456    Jeff Withey       Utah Jazz      24        C   26     7-0     231   \n",
       "\n",
       "               College     Salary  \n",
       "0                Texas  7730337.0  \n",
       "1            Marquette  6796117.0  \n",
       "2    Boston University        NaN  \n",
       "3        Georgia State  1148640.0  \n",
       "4                  NaN  5000000.0  \n",
       "..                 ...        ...  \n",
       "452           Kentucky  2239800.0  \n",
       "453             Butler  2433333.0  \n",
       "454                NaN   900000.0  \n",
       "455                NaN  2900000.0  \n",
       "456             Kansas   947276.0  \n",
       "\n",
       "[457 rows x 9 columns]"
      ]
     },
     "execution_count": 454,
     "metadata": {},
     "output_type": "execute_result"
    }
   ],
   "source": [
    "# Changing it to dataframe\n",
    "MSal_df = pd.DataFrame(MSal_ds)\n",
    "MSal_df"
   ]
  },
  {
   "cell_type": "code",
   "execution_count": 455,
   "metadata": {},
   "outputs": [
    {
     "data": {
      "text/plain": [
       "Index(['Name', 'Team', 'Number', 'Position', 'Age', 'DOJ', 'Weight', 'College',\n",
       "       'Salary'],\n",
       "      dtype='object')"
      ]
     },
     "execution_count": 455,
     "metadata": {},
     "output_type": "execute_result"
    }
   ],
   "source": [
    "# Checking columns\n",
    "MSal_df.columns"
   ]
  },
  {
   "cell_type": "code",
   "execution_count": 456,
   "metadata": {},
   "outputs": [
    {
     "data": {
      "text/plain": [
       "Name         object\n",
       "Team         object\n",
       "Number        int64\n",
       "Position     object\n",
       "Age           int64\n",
       "DOJ          object\n",
       "Weight        int64\n",
       "College      object\n",
       "Salary      float64\n",
       "dtype: object"
      ]
     },
     "execution_count": 456,
     "metadata": {},
     "output_type": "execute_result"
    }
   ],
   "source": [
    "# Datatypes\n",
    "MSal_df.dtypes"
   ]
  },
  {
   "cell_type": "code",
   "execution_count": 457,
   "metadata": {},
   "outputs": [
    {
     "data": {
      "text/html": [
       "<div>\n",
       "<style scoped>\n",
       "    .dataframe tbody tr th:only-of-type {\n",
       "        vertical-align: middle;\n",
       "    }\n",
       "\n",
       "    .dataframe tbody tr th {\n",
       "        vertical-align: top;\n",
       "    }\n",
       "\n",
       "    .dataframe thead th {\n",
       "        text-align: right;\n",
       "    }\n",
       "</style>\n",
       "<table border=\"1\" class=\"dataframe\">\n",
       "  <thead>\n",
       "    <tr style=\"text-align: right;\">\n",
       "      <th></th>\n",
       "      <th>Name</th>\n",
       "      <th>Team</th>\n",
       "      <th>Number</th>\n",
       "      <th>Position</th>\n",
       "      <th>Age</th>\n",
       "      <th>DOJ</th>\n",
       "      <th>Weight</th>\n",
       "      <th>College</th>\n",
       "      <th>Salary</th>\n",
       "    </tr>\n",
       "  </thead>\n",
       "  <tbody>\n",
       "    <tr>\n",
       "      <th>0</th>\n",
       "      <td>Avery Bradley</td>\n",
       "      <td>Boston Celtics</td>\n",
       "      <td>0</td>\n",
       "      <td>PG</td>\n",
       "      <td>25</td>\n",
       "      <td>06-Feb</td>\n",
       "      <td>180</td>\n",
       "      <td>Texas</td>\n",
       "      <td>7730337.0</td>\n",
       "    </tr>\n",
       "    <tr>\n",
       "      <th>1</th>\n",
       "      <td>Jae Crowder</td>\n",
       "      <td>Boston Celtics</td>\n",
       "      <td>99</td>\n",
       "      <td>SF</td>\n",
       "      <td>25</td>\n",
       "      <td>06-Jun</td>\n",
       "      <td>235</td>\n",
       "      <td>Marquette</td>\n",
       "      <td>6796117.0</td>\n",
       "    </tr>\n",
       "    <tr>\n",
       "      <th>2</th>\n",
       "      <td>John Holland</td>\n",
       "      <td>Boston Celtics</td>\n",
       "      <td>30</td>\n",
       "      <td>SG</td>\n",
       "      <td>27</td>\n",
       "      <td>06-May</td>\n",
       "      <td>205</td>\n",
       "      <td>Boston University</td>\n",
       "      <td>NaN</td>\n",
       "    </tr>\n",
       "    <tr>\n",
       "      <th>3</th>\n",
       "      <td>R.J. Hunter</td>\n",
       "      <td>Boston Celtics</td>\n",
       "      <td>28</td>\n",
       "      <td>SG</td>\n",
       "      <td>22</td>\n",
       "      <td>06-May</td>\n",
       "      <td>185</td>\n",
       "      <td>Georgia State</td>\n",
       "      <td>1148640.0</td>\n",
       "    </tr>\n",
       "    <tr>\n",
       "      <th>4</th>\n",
       "      <td>Jonas Jerebko</td>\n",
       "      <td>Boston Celtics</td>\n",
       "      <td>8</td>\n",
       "      <td>PF</td>\n",
       "      <td>29</td>\n",
       "      <td>06-Oct</td>\n",
       "      <td>231</td>\n",
       "      <td>NaN</td>\n",
       "      <td>5000000.0</td>\n",
       "    </tr>\n",
       "  </tbody>\n",
       "</table>\n",
       "</div>"
      ],
      "text/plain": [
       "            Name            Team  Number Position  Age     DOJ  Weight  \\\n",
       "0  Avery Bradley  Boston Celtics       0       PG   25  06-Feb     180   \n",
       "1    Jae Crowder  Boston Celtics      99       SF   25  06-Jun     235   \n",
       "2   John Holland  Boston Celtics      30       SG   27  06-May     205   \n",
       "3    R.J. Hunter  Boston Celtics      28       SG   22  06-May     185   \n",
       "4  Jonas Jerebko  Boston Celtics       8       PF   29  06-Oct     231   \n",
       "\n",
       "             College     Salary  \n",
       "0              Texas  7730337.0  \n",
       "1          Marquette  6796117.0  \n",
       "2  Boston University        NaN  \n",
       "3      Georgia State  1148640.0  \n",
       "4                NaN  5000000.0  "
      ]
     },
     "execution_count": 457,
     "metadata": {},
     "output_type": "execute_result"
    }
   ],
   "source": [
    "# First few rows of dataset\n",
    "MSal_df.head()"
   ]
  },
  {
   "cell_type": "code",
   "execution_count": 458,
   "metadata": {},
   "outputs": [
    {
     "data": {
      "text/plain": [
       "SG    102\n",
       "PF    100\n",
       "PG     92\n",
       "SF     85\n",
       "C      78\n",
       "Name: Position, dtype: int64"
      ]
     },
     "execution_count": 458,
     "metadata": {},
     "output_type": "execute_result"
    }
   ],
   "source": [
    "# Value counts for different positions\n",
    "MSal_df['Position'].value_counts()\n"
   ]
  },
  {
   "cell_type": "code",
   "execution_count": 459,
   "metadata": {},
   "outputs": [
    {
     "data": {
      "text/plain": [
       "<matplotlib.axes._subplots.AxesSubplot at 0x1564c252288>"
      ]
     },
     "execution_count": 459,
     "metadata": {},
     "output_type": "execute_result"
    },
    {
     "data": {
      "image/png": "[encoded data removed]",
      "text/plain": [
       "<Figure size 432x288 with 1 Axes>"
      ]
     },
     "metadata": {
      "needs_background": "light"
     },
     "output_type": "display_data"
    }
   ],
   "source": [
    "# Bivariate Analysis\n",
    "sns.scatterplot(x=MSal_df['Salary'], y=MSal_df['DOJ'], data=MSal_df)"
   ]
  },
  {
   "cell_type": "code",
   "execution_count": 460,
   "metadata": {},
   "outputs": [
    {
     "data": {
      "image/png": "[encoded data removed]",
      "text/plain": [
       "<Figure size 432x288 with 1 Axes>"
      ]
     },
     "metadata": {
      "needs_background": "light"
     },
     "output_type": "display_data"
    }
   ],
   "source": [
    "#Univariate Analysis for Salary\n",
    "sns.boxplot(MSal_df['Salary'])\n",
    "plt.show()"
   ]
  },
  {
   "cell_type": "code",
   "execution_count": 461,
   "metadata": {},
   "outputs": [],
   "source": [
    "# Changing object data type\n",
    "# Changing object to categorical type\n",
    "from sklearn.preprocessing import LabelEncoder, StandardScaler\n",
    "le = LabelEncoder()\n",
    "arr = ['Team', 'Position', 'DOJ', 'College']\n",
    "for val in arr:\n",
    "    MSal_df[val] = MSal_df[val].astype(str)\n",
    "    MSal_df[val] = le.fit_transform(MSal_df[val])\n",
    "    "
   ]
  },
  {
   "cell_type": "code",
   "execution_count": 462,
   "metadata": {},
   "outputs": [
    {
     "data": {
      "text/plain": [
       "Name         object\n",
       "Team          int32\n",
       "Number        int64\n",
       "Position      int32\n",
       "Age           int64\n",
       "DOJ           int32\n",
       "Weight        int64\n",
       "College       int32\n",
       "Salary      float64\n",
       "dtype: object"
      ]
     },
     "execution_count": 462,
     "metadata": {},
     "output_type": "execute_result"
    }
   ],
   "source": [
    "# Converted data types\n",
    "MSal_df.dtypes"
   ]
  },
  {
   "cell_type": "code",
   "execution_count": 463,
   "metadata": {},
   "outputs": [
    {
     "data": {
      "image/png": "[encoded data removed]",
      "text/plain": [
       "<Figure size 432x288 with 1 Axes>"
      ]
     },
     "metadata": {
      "needs_background": "light"
     },
     "output_type": "display_data"
    }
   ],
   "source": [
    "# Plotting bar graph for visualization: Bivariate Analysis\n",
    "# DOJ vs Salary\n",
    "sns.barplot(x='Salary', y='DOJ', data=MSal_df)\n",
    "plt.show()"
   ]
  },
  {
   "cell_type": "code",
   "execution_count": null,
   "metadata": {},
   "outputs": [],
   "source": []
  },
  {
   "cell_type": "code",
   "execution_count": 464,
   "metadata": {},
   "outputs": [
    {
     "data": {
      "text/html": [
       "<div>\n",
       "<style scoped>\n",
       "    .dataframe tbody tr th:only-of-type {\n",
       "        vertical-align: middle;\n",
       "    }\n",
       "\n",
       "    .dataframe tbody tr th {\n",
       "        vertical-align: top;\n",
       "    }\n",
       "\n",
       "    .dataframe thead th {\n",
       "        text-align: right;\n",
       "    }\n",
       "</style>\n",
       "<table border=\"1\" class=\"dataframe\">\n",
       "  <thead>\n",
       "    <tr style=\"text-align: right;\">\n",
       "      <th></th>\n",
       "      <th>Name</th>\n",
       "      <th>Team</th>\n",
       "      <th>Number</th>\n",
       "      <th>Position</th>\n",
       "      <th>Age</th>\n",
       "      <th>DOJ</th>\n",
       "      <th>Weight</th>\n",
       "      <th>College</th>\n",
       "      <th>Salary</th>\n",
       "    </tr>\n",
       "  </thead>\n",
       "  <tbody>\n",
       "    <tr>\n",
       "      <th>0</th>\n",
       "      <td>Avery Bradley</td>\n",
       "      <td>1</td>\n",
       "      <td>0</td>\n",
       "      <td>2</td>\n",
       "      <td>25</td>\n",
       "      <td>4</td>\n",
       "      <td>180</td>\n",
       "      <td>93</td>\n",
       "      <td>7730337.0</td>\n",
       "    </tr>\n",
       "    <tr>\n",
       "      <th>1</th>\n",
       "      <td>Jae Crowder</td>\n",
       "      <td>1</td>\n",
       "      <td>99</td>\n",
       "      <td>3</td>\n",
       "      <td>25</td>\n",
       "      <td>7</td>\n",
       "      <td>235</td>\n",
       "      <td>52</td>\n",
       "      <td>6796117.0</td>\n",
       "    </tr>\n",
       "    <tr>\n",
       "      <th>2</th>\n",
       "      <td>John Holland</td>\n",
       "      <td>1</td>\n",
       "      <td>30</td>\n",
       "      <td>4</td>\n",
       "      <td>27</td>\n",
       "      <td>9</td>\n",
       "      <td>205</td>\n",
       "      <td>8</td>\n",
       "      <td>NaN</td>\n",
       "    </tr>\n",
       "    <tr>\n",
       "      <th>3</th>\n",
       "      <td>R.J. Hunter</td>\n",
       "      <td>1</td>\n",
       "      <td>28</td>\n",
       "      <td>4</td>\n",
       "      <td>22</td>\n",
       "      <td>9</td>\n",
       "      <td>185</td>\n",
       "      <td>33</td>\n",
       "      <td>1148640.0</td>\n",
       "    </tr>\n",
       "    <tr>\n",
       "      <th>4</th>\n",
       "      <td>Jonas Jerebko</td>\n",
       "      <td>1</td>\n",
       "      <td>8</td>\n",
       "      <td>1</td>\n",
       "      <td>29</td>\n",
       "      <td>11</td>\n",
       "      <td>231</td>\n",
       "      <td>118</td>\n",
       "      <td>5000000.0</td>\n",
       "    </tr>\n",
       "  </tbody>\n",
       "</table>\n",
       "</div>"
      ],
      "text/plain": [
       "            Name  Team  Number  Position  Age  DOJ  Weight  College     Salary\n",
       "0  Avery Bradley     1       0         2   25    4     180       93  7730337.0\n",
       "1    Jae Crowder     1      99         3   25    7     235       52  6796117.0\n",
       "2   John Holland     1      30         4   27    9     205        8        NaN\n",
       "3    R.J. Hunter     1      28         4   22    9     185       33  1148640.0\n",
       "4  Jonas Jerebko     1       8         1   29   11     231      118  5000000.0"
      ]
     },
     "execution_count": 464,
     "metadata": {},
     "output_type": "execute_result"
    }
   ],
   "source": [
    "MSal_df.head()"
   ]
  },
  {
   "cell_type": "code",
   "execution_count": 465,
   "metadata": {},
   "outputs": [
    {
     "data": {
      "text/html": [
       "<div>\n",
       "<style scoped>\n",
       "    .dataframe tbody tr th:only-of-type {\n",
       "        vertical-align: middle;\n",
       "    }\n",
       "\n",
       "    .dataframe tbody tr th {\n",
       "        vertical-align: top;\n",
       "    }\n",
       "\n",
       "    .dataframe thead th {\n",
       "        text-align: right;\n",
       "    }\n",
       "</style>\n",
       "<table border=\"1\" class=\"dataframe\">\n",
       "  <thead>\n",
       "    <tr style=\"text-align: right;\">\n",
       "      <th></th>\n",
       "      <th>Team</th>\n",
       "      <th>Number</th>\n",
       "      <th>Position</th>\n",
       "      <th>Age</th>\n",
       "      <th>DOJ</th>\n",
       "      <th>College</th>\n",
       "      <th>Salary</th>\n",
       "    </tr>\n",
       "  </thead>\n",
       "  <tbody>\n",
       "    <tr>\n",
       "      <th>0</th>\n",
       "      <td>1</td>\n",
       "      <td>0</td>\n",
       "      <td>2</td>\n",
       "      <td>25</td>\n",
       "      <td>4</td>\n",
       "      <td>93</td>\n",
       "      <td>7730337.0</td>\n",
       "    </tr>\n",
       "    <tr>\n",
       "      <th>1</th>\n",
       "      <td>1</td>\n",
       "      <td>99</td>\n",
       "      <td>3</td>\n",
       "      <td>25</td>\n",
       "      <td>7</td>\n",
       "      <td>52</td>\n",
       "      <td>6796117.0</td>\n",
       "    </tr>\n",
       "    <tr>\n",
       "      <th>2</th>\n",
       "      <td>1</td>\n",
       "      <td>30</td>\n",
       "      <td>4</td>\n",
       "      <td>27</td>\n",
       "      <td>9</td>\n",
       "      <td>8</td>\n",
       "      <td>NaN</td>\n",
       "    </tr>\n",
       "    <tr>\n",
       "      <th>3</th>\n",
       "      <td>1</td>\n",
       "      <td>28</td>\n",
       "      <td>4</td>\n",
       "      <td>22</td>\n",
       "      <td>9</td>\n",
       "      <td>33</td>\n",
       "      <td>1148640.0</td>\n",
       "    </tr>\n",
       "    <tr>\n",
       "      <th>4</th>\n",
       "      <td>1</td>\n",
       "      <td>8</td>\n",
       "      <td>1</td>\n",
       "      <td>29</td>\n",
       "      <td>11</td>\n",
       "      <td>118</td>\n",
       "      <td>5000000.0</td>\n",
       "    </tr>\n",
       "    <tr>\n",
       "      <th>...</th>\n",
       "      <td>...</td>\n",
       "      <td>...</td>\n",
       "      <td>...</td>\n",
       "      <td>...</td>\n",
       "      <td>...</td>\n",
       "      <td>...</td>\n",
       "      <td>...</td>\n",
       "    </tr>\n",
       "    <tr>\n",
       "      <th>452</th>\n",
       "      <td>28</td>\n",
       "      <td>41</td>\n",
       "      <td>1</td>\n",
       "      <td>20</td>\n",
       "      <td>11</td>\n",
       "      <td>45</td>\n",
       "      <td>2239800.0</td>\n",
       "    </tr>\n",
       "    <tr>\n",
       "      <th>453</th>\n",
       "      <td>28</td>\n",
       "      <td>8</td>\n",
       "      <td>2</td>\n",
       "      <td>26</td>\n",
       "      <td>8</td>\n",
       "      <td>11</td>\n",
       "      <td>2433333.0</td>\n",
       "    </tr>\n",
       "    <tr>\n",
       "      <th>454</th>\n",
       "      <td>28</td>\n",
       "      <td>25</td>\n",
       "      <td>2</td>\n",
       "      <td>24</td>\n",
       "      <td>5</td>\n",
       "      <td>118</td>\n",
       "      <td>900000.0</td>\n",
       "    </tr>\n",
       "    <tr>\n",
       "      <th>455</th>\n",
       "      <td>28</td>\n",
       "      <td>21</td>\n",
       "      <td>0</td>\n",
       "      <td>26</td>\n",
       "      <td>15</td>\n",
       "      <td>118</td>\n",
       "      <td>2900000.0</td>\n",
       "    </tr>\n",
       "    <tr>\n",
       "      <th>456</th>\n",
       "      <td>28</td>\n",
       "      <td>24</td>\n",
       "      <td>0</td>\n",
       "      <td>26</td>\n",
       "      <td>17</td>\n",
       "      <td>43</td>\n",
       "      <td>947276.0</td>\n",
       "    </tr>\n",
       "  </tbody>\n",
       "</table>\n",
       "<p>457 rows × 7 columns</p>\n",
       "</div>"
      ],
      "text/plain": [
       "     Team  Number  Position  Age  DOJ  College     Salary\n",
       "0       1       0         2   25    4       93  7730337.0\n",
       "1       1      99         3   25    7       52  6796117.0\n",
       "2       1      30         4   27    9        8        NaN\n",
       "3       1      28         4   22    9       33  1148640.0\n",
       "4       1       8         1   29   11      118  5000000.0\n",
       "..    ...     ...       ...  ...  ...      ...        ...\n",
       "452    28      41         1   20   11       45  2239800.0\n",
       "453    28       8         2   26    8       11  2433333.0\n",
       "454    28      25         2   24    5      118   900000.0\n",
       "455    28      21         0   26   15      118  2900000.0\n",
       "456    28      24         0   26   17       43   947276.0\n",
       "\n",
       "[457 rows x 7 columns]"
      ]
     },
     "execution_count": 465,
     "metadata": {},
     "output_type": "execute_result"
    }
   ],
   "source": [
    "# Drppoing unneccessary columns\n",
    "MSal_df.drop(['Name', 'Weight'], axis = 1, inplace=True)\n",
    "MSal_df"
   ]
  },
  {
   "cell_type": "code",
   "execution_count": 466,
   "metadata": {},
   "outputs": [
    {
     "data": {
      "text/plain": [
       "Team         0\n",
       "Number       0\n",
       "Position     0\n",
       "Age          0\n",
       "DOJ          0\n",
       "College      0\n",
       "Salary      11\n",
       "dtype: int64"
      ]
     },
     "execution_count": 466,
     "metadata": {},
     "output_type": "execute_result"
    }
   ],
   "source": [
    "# Checking the sums of null\n",
    "MSal_df.isnull().sum()"
   ]
  },
  {
   "cell_type": "code",
   "execution_count": 467,
   "metadata": {},
   "outputs": [],
   "source": [
    "# changing null salary to mean of salary\n",
    "MSal_df['Salary'] = MSal_df['Salary'].replace(np.NaN, MSal_df['Salary'].mean())"
   ]
  },
  {
   "cell_type": "code",
   "execution_count": 468,
   "metadata": {},
   "outputs": [
    {
     "data": {
      "text/plain": [
       "Team        0\n",
       "Number      0\n",
       "Position    0\n",
       "Age         0\n",
       "DOJ         0\n",
       "College     0\n",
       "Salary      0\n",
       "dtype: int64"
      ]
     },
     "execution_count": 468,
     "metadata": {},
     "output_type": "execute_result"
    }
   ],
   "source": [
    "#Again checking sum of null\n",
    "MSal_df.isnull().sum()"
   ]
  },
  {
   "cell_type": "code",
   "execution_count": 469,
   "metadata": {},
   "outputs": [
    {
     "data": {
      "text/plain": [
       "<matplotlib.axes._subplots.AxesSubplot at 0x1564bd2a548>"
      ]
     },
     "execution_count": 469,
     "metadata": {},
     "output_type": "execute_result"
    },
    {
     "data": {
      "image/png": "[encoded data removed]",
      "text/plain": [
       "<Figure size 432x288 with 2 Axes>"
      ]
     },
     "metadata": {
      "needs_background": "light"
     },
     "output_type": "display_data"
    }
   ],
   "source": [
    "# Heatmap for null values\n",
    "sns.heatmap(MSal_df.isnull())"
   ]
  },
  {
   "cell_type": "code",
   "execution_count": 470,
   "metadata": {},
   "outputs": [
    {
     "data": {
      "text/html": [
       "<div>\n",
       "<style scoped>\n",
       "    .dataframe tbody tr th:only-of-type {\n",
       "        vertical-align: middle;\n",
       "    }\n",
       "\n",
       "    .dataframe tbody tr th {\n",
       "        vertical-align: top;\n",
       "    }\n",
       "\n",
       "    .dataframe thead th {\n",
       "        text-align: right;\n",
       "    }\n",
       "</style>\n",
       "<table border=\"1\" class=\"dataframe\">\n",
       "  <thead>\n",
       "    <tr style=\"text-align: right;\">\n",
       "      <th></th>\n",
       "      <th>Team</th>\n",
       "      <th>Number</th>\n",
       "      <th>Position</th>\n",
       "      <th>Age</th>\n",
       "      <th>DOJ</th>\n",
       "      <th>College</th>\n",
       "      <th>Salary</th>\n",
       "    </tr>\n",
       "  </thead>\n",
       "  <tbody>\n",
       "    <tr>\n",
       "      <th>Team</th>\n",
       "      <td>1.000000</td>\n",
       "      <td>-0.054748</td>\n",
       "      <td>-0.009638</td>\n",
       "      <td>-0.042344</td>\n",
       "      <td>0.004796</td>\n",
       "      <td>0.031684</td>\n",
       "      <td>-0.039337</td>\n",
       "    </tr>\n",
       "    <tr>\n",
       "      <th>Number</th>\n",
       "      <td>-0.054748</td>\n",
       "      <td>1.000000</td>\n",
       "      <td>-0.177229</td>\n",
       "      <td>0.028724</td>\n",
       "      <td>0.102402</td>\n",
       "      <td>0.053274</td>\n",
       "      <td>-0.111436</td>\n",
       "    </tr>\n",
       "    <tr>\n",
       "      <th>Position</th>\n",
       "      <td>-0.009638</td>\n",
       "      <td>-0.177229</td>\n",
       "      <td>1.000000</td>\n",
       "      <td>-0.062992</td>\n",
       "      <td>-0.547383</td>\n",
       "      <td>-0.092516</td>\n",
       "      <td>-0.094108</td>\n",
       "    </tr>\n",
       "    <tr>\n",
       "      <th>Age</th>\n",
       "      <td>-0.042344</td>\n",
       "      <td>0.028724</td>\n",
       "      <td>-0.062992</td>\n",
       "      <td>1.000000</td>\n",
       "      <td>0.044540</td>\n",
       "      <td>0.051550</td>\n",
       "      <td>0.210627</td>\n",
       "    </tr>\n",
       "    <tr>\n",
       "      <th>DOJ</th>\n",
       "      <td>0.004796</td>\n",
       "      <td>0.102402</td>\n",
       "      <td>-0.547383</td>\n",
       "      <td>0.044540</td>\n",
       "      <td>1.000000</td>\n",
       "      <td>0.150479</td>\n",
       "      <td>0.039222</td>\n",
       "    </tr>\n",
       "    <tr>\n",
       "      <th>College</th>\n",
       "      <td>0.031684</td>\n",
       "      <td>0.053274</td>\n",
       "      <td>-0.092516</td>\n",
       "      <td>0.051550</td>\n",
       "      <td>0.150479</td>\n",
       "      <td>1.000000</td>\n",
       "      <td>0.050300</td>\n",
       "    </tr>\n",
       "    <tr>\n",
       "      <th>Salary</th>\n",
       "      <td>-0.039337</td>\n",
       "      <td>-0.111436</td>\n",
       "      <td>-0.094108</td>\n",
       "      <td>0.210627</td>\n",
       "      <td>0.039222</td>\n",
       "      <td>0.050300</td>\n",
       "      <td>1.000000</td>\n",
       "    </tr>\n",
       "  </tbody>\n",
       "</table>\n",
       "</div>"
      ],
      "text/plain": [
       "              Team    Number  Position       Age       DOJ   College    Salary\n",
       "Team      1.000000 -0.054748 -0.009638 -0.042344  0.004796  0.031684 -0.039337\n",
       "Number   -0.054748  1.000000 -0.177229  0.028724  0.102402  0.053274 -0.111436\n",
       "Position -0.009638 -0.177229  1.000000 -0.062992 -0.547383 -0.092516 -0.094108\n",
       "Age      -0.042344  0.028724 -0.062992  1.000000  0.044540  0.051550  0.210627\n",
       "DOJ       0.004796  0.102402 -0.547383  0.044540  1.000000  0.150479  0.039222\n",
       "College   0.031684  0.053274 -0.092516  0.051550  0.150479  1.000000  0.050300\n",
       "Salary   -0.039337 -0.111436 -0.094108  0.210627  0.039222  0.050300  1.000000"
      ]
     },
     "execution_count": 470,
     "metadata": {},
     "output_type": "execute_result"
    }
   ],
   "source": [
    "# Corelation between different features\n",
    "MSal_df.corr()"
   ]
  },
  {
   "cell_type": "code",
   "execution_count": 471,
   "metadata": {},
   "outputs": [
    {
     "data": {
      "text/plain": [
       "<matplotlib.axes._subplots.AxesSubplot at 0x1564d9a0308>"
      ]
     },
     "execution_count": 471,
     "metadata": {},
     "output_type": "execute_result"
    },
    {
     "data": {
      "image/png": "[encoded data removed]",
      "text/plain": [
       "<Figure size 432x288 with 2 Axes>"
      ]
     },
     "metadata": {
      "needs_background": "light"
     },
     "output_type": "display_data"
    }
   ],
   "source": [
    "# Heatmap for correlation\n",
    "sns.heatmap(MSal_df.corr())"
   ]
  },
  {
   "cell_type": "code",
   "execution_count": 472,
   "metadata": {},
   "outputs": [
    {
     "data": {
      "text/plain": [
       "Team       -0.007368\n",
       "Number      1.668386\n",
       "Position   -0.014795\n",
       "Age         0.626349\n",
       "DOJ         0.192022\n",
       "College    -0.127550\n",
       "Salary      1.595511\n",
       "dtype: float64"
      ]
     },
     "execution_count": 472,
     "metadata": {},
     "output_type": "execute_result"
    }
   ],
   "source": [
    "# Checking skewness\n",
    "MSal_df.skew()"
   ]
  },
  {
   "cell_type": "code",
   "execution_count": 473,
   "metadata": {},
   "outputs": [],
   "source": [
    "# If skewness present: Remove skewness \n",
    "for col in MSal_df.columns:\n",
    "    if MSal_df.skew().loc[col] > 0.55:\n",
    "        MSal_df[col] = np.log1p(MSal_df[col])"
   ]
  },
  {
   "cell_type": "code",
   "execution_count": 474,
   "metadata": {},
   "outputs": [
    {
     "data": {
      "text/plain": [
       "Team       -0.007368\n",
       "Number     -0.638011\n",
       "Position   -0.014795\n",
       "Age         0.284946\n",
       "DOJ         0.192022\n",
       "College    -0.127550\n",
       "Salary     -0.450091\n",
       "dtype: float64"
      ]
     },
     "execution_count": 474,
     "metadata": {},
     "output_type": "execute_result"
    }
   ],
   "source": [
    "# Again checking skewness\n",
    "MSal_df.skew()"
   ]
  },
  {
   "cell_type": "code",
   "execution_count": 475,
   "metadata": {},
   "outputs": [
    {
     "name": "stdout",
     "output_type": "stream",
     "text": [
      "(457, 7)\n",
      "(454, 7)\n"
     ]
    }
   ],
   "source": [
    "# Z score chcek\n",
    "from scipy.stats import zscore\n",
    "z_score = abs(zscore(MSal_df))\n",
    "print (MSal_df.shape)\n",
    "\n",
    "MSal_df_final = MSal_df.loc[(z_score < 3).all(axis=1)]\n",
    "print (MSal_df_final.shape)"
   ]
  },
  {
   "cell_type": "code",
   "execution_count": 476,
   "metadata": {},
   "outputs": [
    {
     "data": {
      "text/plain": [
       "array([[-1.57366745, -2.45903592, -0.05138118, ..., -1.09357292,\n",
       "         0.6475773 ,  0.88822719],\n",
       "       [-1.57366745,  2.05162966,  0.66017031, ..., -0.36611612,\n",
       "        -0.44416787,  0.78062159],\n",
       "       [-1.57366745,  0.90448101,  1.37172179, ...,  0.11885509,\n",
       "        -1.61579683,  0.49750563],\n",
       "       ...,\n",
       "       [ 1.56882854,  0.73219987, -0.05138118, ..., -0.85108732,\n",
       "         1.31327557, -0.90839778],\n",
       "       [ 1.56882854,  0.56857397, -1.47448415, ...,  1.5737687 ,\n",
       "         1.31327557,  0.06912658],\n",
       "       [ 1.56882854,  0.69378402, -1.47448415, ...,  2.05873991,\n",
       "        -0.68381925, -0.86562683]])"
      ]
     },
     "execution_count": 476,
     "metadata": {},
     "output_type": "execute_result"
    }
   ],
   "source": [
    "# Standard scaler used to scale the data\n",
    "sc = StandardScaler()\n",
    "MSal_df = sc.fit_transform(MSal_df)\n",
    "MSal_df"
   ]
  },
  {
   "cell_type": "code",
   "execution_count": 477,
   "metadata": {},
   "outputs": [],
   "source": [
    "from sklearn.model_selection import train_test_split\n",
    "from sklearn.metrics import mean_absolute_error, mean_squared_error, r2_score\n",
    "from sklearn import linear_model"
   ]
  },
  {
   "cell_type": "code",
   "execution_count": 478,
   "metadata": {},
   "outputs": [],
   "source": [
    "# Converting into input and target variable\n",
    "x = MSal_df[:, 0:-1]\n",
    "y = MSal_df[:,-1]"
   ]
  },
  {
   "cell_type": "code",
   "execution_count": 479,
   "metadata": {},
   "outputs": [
    {
     "data": {
      "text/plain": [
       "(457, 6)"
      ]
     },
     "execution_count": 479,
     "metadata": {},
     "output_type": "execute_result"
    }
   ],
   "source": [
    "x.shape"
   ]
  },
  {
   "cell_type": "code",
   "execution_count": null,
   "metadata": {},
   "outputs": [],
   "source": []
  },
  {
   "cell_type": "code",
   "execution_count": 480,
   "metadata": {},
   "outputs": [
    {
     "data": {
      "text/plain": [
       "(457,)"
      ]
     },
     "execution_count": 480,
     "metadata": {},
     "output_type": "execute_result"
    }
   ],
   "source": [
    "y.shape"
   ]
  },
  {
   "cell_type": "code",
   "execution_count": null,
   "metadata": {},
   "outputs": [],
   "source": []
  },
  {
   "cell_type": "code",
   "execution_count": 481,
   "metadata": {},
   "outputs": [
    {
     "name": "stdout",
     "output_type": "stream",
     "text": [
      "\n",
      "r2 score corresponding to state:  42  is:  -0.07256717200080964\n",
      "\n",
      "r2 score corresponding to state:  43  is:  -0.1414309179882558\n",
      "\n",
      "r2 score corresponding to state:  44  is:  0.03686844229409436\n",
      "\n",
      "r2 score corresponding to state:  45  is:  -0.008219849608663843\n",
      "\n",
      "r2 score corresponding to state:  46  is:  0.04404019907542056\n",
      "\n",
      "r2 score corresponding to state:  47  is:  0.025242750205158093\n",
      "\n",
      "r2 score corresponding to state:  48  is:  -0.05858831591456681\n",
      "\n",
      "r2 score corresponding to state:  49  is:  0.05707446948018946\n",
      "\n",
      "r2 score corresponding to state:  50  is:  0.041816524575228886\n",
      "\n",
      "r2 score corresponding to state:  51  is:  -0.0037609351876044528\n",
      "\n",
      "r2 score corresponding to state:  52  is:  0.06092162923765754\n",
      "\n",
      "r2 score corresponding to state:  53  is:  0.1029241910978499\n",
      "\n",
      "r2 score corresponding to state:  54  is:  -0.06169308538910512\n",
      "\n",
      "r2 score corresponding to state:  55  is:  0.055771706090067874\n",
      "\n",
      "r2 score corresponding to state:  56  is:  0.05675826698179687\n",
      "\n",
      "r2 score corresponding to state:  57  is:  0.07748229658809791\n",
      "\n",
      "r2 score corresponding to state:  58  is:  0.0501966069740708\n",
      "\n",
      "r2 score corresponding to state:  59  is:  0.09491113213840496\n",
      "\n",
      "r2 score corresponding to state:  60  is:  -0.028746593096036888\n",
      "\n",
      "r2 score corresponding to state:  61  is:  0.035017704409159855\n",
      "\n",
      "r2 score corresponding to state:  62  is:  0.008691140523308993\n",
      "\n",
      "r2 score corresponding to state:  63  is:  0.07202429731075555\n",
      "\n",
      "r2 score corresponding to state:  64  is:  -0.0517956168900211\n",
      "\n",
      "r2 score corresponding to state:  65  is:  0.05324020769262183\n",
      "\n",
      "r2 score corresponding to state:  66  is:  -0.06561720591304576\n",
      "\n",
      "r2 score corresponding to state:  67  is:  0.10702813151401991\n",
      "\n",
      "r2 score corresponding to state:  68  is:  0.07010865724589854\n",
      "\n",
      "r2 score corresponding to state:  69  is:  0.10305374689197577\n",
      "\n",
      "r2 score corresponding to state:  70  is:  0.0016269141183773428\n",
      "\n",
      "r2 score corresponding to state:  71  is:  0.034457814478007553\n",
      "\n",
      "r2 score corresponding to state:  72  is:  -0.051663277804903096\n",
      "\n",
      "r2 score corresponding to state:  73  is:  -0.020591837622828013\n",
      "\n",
      "r2 score corresponding to state:  74  is:  0.07316835459942828\n",
      "\n",
      "r2 score corresponding to state:  75  is:  0.030301905530537576\n",
      "\n",
      "r2 score corresponding to state:  76  is:  0.02545432332919262\n",
      "\n",
      "r2 score corresponding to state:  77  is:  0.06834249274096349\n",
      "\n",
      "r2 score corresponding to state:  78  is:  0.042620778044728524\n",
      "\n",
      "r2 score corresponding to state:  79  is:  0.08910995429644841\n",
      "\n",
      "r2 score corresponding to state:  80  is:  -0.047524999422092096\n",
      "\n",
      "r2 score corresponding to state:  81  is:  0.07296374334983047\n",
      "\n",
      "r2 score corresponding to state:  82  is:  -0.013149097493904804\n",
      "\n",
      "r2 score corresponding to state:  83  is:  0.01065607028500859\n",
      "\n",
      "r2 score corresponding to state:  84  is:  0.05128556705226095\n",
      "\n",
      "r2 score corresponding to state:  85  is:  -0.05330827594457199\n",
      "\n",
      "r2 score corresponding to state:  86  is:  0.11333013857121255\n",
      "\n",
      "r2 score corresponding to state:  87  is:  0.06864753990116779\n",
      "\n",
      "r2 score corresponding to state:  88  is:  0.037211033826792916\n",
      "\n",
      "r2 score corresponding to state:  89  is:  0.03699090337203004\n",
      "\n",
      "r2 score corresponding to state:  90  is:  0.038737947525109284\n",
      "\n",
      "r2 score corresponding to state:  91  is:  0.021979585952440206\n",
      "\n",
      "r2 score corresponding to state:  92  is:  -0.007120350276308862\n",
      "\n",
      "r2 score corresponding to state:  93  is:  0.02183390800196694\n",
      "\n",
      "r2 score corresponding to state:  94  is:  -0.02522892395751919\n",
      "\n",
      "r2 score corresponding to state:  95  is:  0.020510707590832955\n",
      "\n",
      "r2 score corresponding to state:  96  is:  0.039926037729554054\n",
      "\n",
      "r2 score corresponding to state:  97  is:  0.0386865379470781\n",
      "\n",
      "r2 score corresponding to state:  98  is:  0.07629591720740325\n",
      "\n",
      "r2 score corresponding to state:  99  is:  0.08100200052826678\n",
      "\n",
      "Max r2 score corresponding to  86  is:  0.11333013857121255\n"
     ]
    }
   ],
   "source": [
    "# Subroutine to get the best random state with max r2_score\n",
    "max_r2_score = 0\n",
    "for r_state in range (42, 100):\n",
    "    \n",
    "    x_train, x_test, y_train, y_test = train_test_split(x, y, random_state=r_state, test_size=.20)\n",
    "    \n",
    "    regr = linear_model.LinearRegression()\n",
    "    regr.fit(x_train, y_train)\n",
    "    y_pred = regr.predict(x_test)\n",
    "    r2_scr = r2_score(y_test, y_pred)\n",
    "    \n",
    "    \n",
    "    print (\"\\nr2 score corresponding to state: \", r_state, \" is: \", r2_scr)\n",
    "    if (r2_scr > max_r2_score):\n",
    "        max_r2_score = r2_scr\n",
    "        final_r_state = r_state\n",
    "print (\"\\nMax r2 score corresponding to \", final_r_state, \" is: \", max_r2_score)\n"
   ]
  },
  {
   "cell_type": "code",
   "execution_count": 482,
   "metadata": {},
   "outputs": [
    {
     "data": {
      "text/plain": [
       "0.021921763492361045"
      ]
     },
     "execution_count": 482,
     "metadata": {},
     "output_type": "execute_result"
    }
   ],
   "source": [
    "# Further chceking with cross validation\n",
    "from sklearn.model_selection import cross_val_score\n",
    "cross_val_score(linear_model.LinearRegression(), x, y, cv=10, scoring=\"r2\").mean()"
   ]
  },
  {
   "cell_type": "code",
   "execution_count": 483,
   "metadata": {},
   "outputs": [],
   "source": [
    "# Applying the algorithm with best random state\n",
    "x_train, x_test, y_train, y_test = train_test_split(x, y, random_state=86, test_size=.20)\n",
    "lr = linear_model.LinearRegression()\n",
    "lr.fit(x_train, y_train)\n",
    "y_pred = lr.predict(x_test)"
   ]
  },
  {
   "cell_type": "code",
   "execution_count": 484,
   "metadata": {},
   "outputs": [
    {
     "name": "stdout",
     "output_type": "stream",
     "text": [
      "\n",
      " r2 score is:  0.11333013857121255\n",
      "\n",
      " RMSE is:  0.9176745301703056\n"
     ]
    }
   ],
   "source": [
    "# Evaluate r2_score and RMSE\n",
    "print(\"\\n r2 score is: \", r2_score(y_test, y_pred))\n",
    "print(\"\\n RMSE is: \", np.sqrt(mean_squared_error(y_test, y_pred)))"
   ]
  },
  {
   "cell_type": "code",
   "execution_count": 485,
   "metadata": {},
   "outputs": [
    {
     "name": "stdout",
     "output_type": "stream",
     "text": [
      "\n",
      " Best Params  {'alpha': 0.001}\n",
      "\n",
      " Best Score  0.02376931172341441\n"
     ]
    }
   ],
   "source": [
    "# Regularization: Using Lasso Regression\n",
    "# GridSerachCV : to use the best parameters and best model\n",
    "from sklearn.model_selection import GridSearchCV\n",
    "from sklearn.linear_model import Lasso\n",
    "\n",
    "param = {'alpha': [0.1, 0.001, 0.0001, 1.0]}\n",
    "\n",
    "grid = GridSearchCV(estimator = Lasso(), param_grid = param, scoring='r2')\n",
    "d_mod = grid.fit(x,y)\n",
    "print (\"\\n Best Params \", grid.best_params_)\n",
    "print (\"\\n Best Score \", grid.best_score_)\n"
   ]
  },
  {
   "cell_type": "code",
   "execution_count": 486,
   "metadata": {},
   "outputs": [
    {
     "name": "stdout",
     "output_type": "stream",
     "text": [
      "(365, 6)\n",
      "(365,)\n",
      "(92, 6)\n",
      "(92,)\n",
      "\n",
      " Predicted value:  [-0.22090273 -0.38176718  0.08171899 -0.12872666 -0.17926592  0.21178928\n",
      "  0.14107121 -0.13375496 -0.28803866  0.00659014  0.41556377  0.15874892\n",
      "  0.07679977 -0.03762147 -0.21048892 -0.15206226 -0.1896878  -0.26773754\n",
      "  0.30499958 -0.38200088 -0.03644115  0.28076786 -0.51838306 -0.20695753\n",
      " -0.11195542  0.27501006 -0.01287882 -0.22354297  0.15258871 -0.25810528\n",
      "  0.09199415 -0.17211126  0.00347947  0.00394273  0.05904337 -0.25270924\n",
      " -0.1253344   0.16919541 -0.0865596  -0.34686058 -0.08972108  0.06162301\n",
      "  0.02069129  0.14153135 -0.23301599  0.06896805  0.18185059  0.0702401\n",
      " -0.12295441 -0.23926596 -0.26092267  0.03274701 -0.34933442 -0.05598219\n",
      "  0.18775792  0.02848999  0.23285941  0.14621382 -0.41729727  0.06445671\n",
      " -0.29102466 -0.09623244 -0.1154587  -0.27413361  0.30766982 -0.12397768\n",
      "  0.41615072  0.13233019  0.16729983  0.2464276  -0.13471267 -0.29100704\n",
      " -0.41151602  0.2221309  -0.30053751 -0.41953654  0.02251247 -0.22728697\n",
      "  0.34699816 -0.25649854 -0.35385431  0.32633128 -0.20935703 -0.0628037\n",
      "  0.2371662   0.21546531 -0.04352826 -0.11766009  0.17004568  0.20658102\n",
      " -0.27511469 -0.05851982]\n",
      "\n",
      " Score:  0.05052160882715084\n",
      "\n",
      " Coef:  [-0.         -0.08201245 -0.10082845  0.15616553 -0.         -0.01207052]\n",
      "\n",
      " Intercept:  -0.0006740790949773708\n"
     ]
    },
    {
     "data": {
      "text/plain": [
       "(6,)"
      ]
     },
     "execution_count": 486,
     "metadata": {},
     "output_type": "execute_result"
    }
   ],
   "source": [
    "# Using lasso for Regularization, to remove variance and biasedness\n",
    "\n",
    "ls = Lasso(alpha = 0.001, normalize=True)\n",
    "\n",
    "print (x_train.shape)\n",
    "print (y_train.shape)\n",
    "print (x_test.shape)\n",
    "print (y_test.shape)\n",
    "\n",
    "ls.fit(x_train, y_train)\n",
    "print (\"\\n Predicted value: \", ls.predict(x_test))\n",
    "ls_pred = ls.predict(x_test)\n",
    "\n",
    "print (\"\\n Score: \", ls.score(x_train, y_train))\n",
    "print (\"\\n Coef: \", ls.coef_)\n",
    "print (\"\\n Intercept: \", ls.intercept_)\n",
    "\n",
    "#plt.bar (x, ls.coef_)\n",
    "#plt.show()\n",
    "ls.coef_.shape\n"
   ]
  },
  {
   "cell_type": "code",
   "execution_count": 488,
   "metadata": {},
   "outputs": [
    {
     "data": {
      "text/plain": [
       "array([-0.25208589, -0.43572213,  0.05839215, -0.17033891, -0.19816747,\n",
       "        0.25179426,  0.14709347, -0.12957301, -0.3541313 ,  0.05707272,\n",
       "        0.44587863,  0.16115889,  0.04894194, -0.01467685, -0.22445102,\n",
       "       -0.1974353 , -0.16997612, -0.34606489,  0.43371851, -0.41366688,\n",
       "       -0.03059846,  0.36005868, -0.62933802, -0.25401722, -0.13036668,\n",
       "        0.34871881, -0.03406701, -0.29523666,  0.19641884, -0.32568704,\n",
       "        0.05248471, -0.21675665, -0.00146218,  0.02601189,  0.05187947,\n",
       "       -0.29567323, -0.13506723,  0.17466876, -0.12760382, -0.43334654,\n",
       "       -0.13816958,  0.09347576,  0.00862949,  0.16465329, -0.21387599,\n",
       "        0.09760411,  0.18059433,  0.07925625, -0.13129168, -0.29692351,\n",
       "       -0.26913538,  0.08221847, -0.4263985 , -0.10144309,  0.24519148,\n",
       "        0.05411089,  0.22963915,  0.0957321 , -0.49353823,  0.12430971,\n",
       "       -0.33072265, -0.06582237, -0.17346151, -0.32351675,  0.35876159,\n",
       "       -0.17752278,  0.44856666,  0.14933847,  0.22135317,  0.26229784,\n",
       "       -0.13245072, -0.3369101 , -0.47089419,  0.26226025, -0.38184841,\n",
       "       -0.46383454,  0.01626049, -0.23536644,  0.46370081, -0.29415811,\n",
       "       -0.42470992,  0.4227097 , -0.2242578 , -0.08222364,  0.26150803,\n",
       "        0.25759677, -0.0778125 , -0.13303527,  0.20536739,  0.21786621,\n",
       "       -0.33900738, -0.09870556])"
      ]
     },
     "execution_count": 488,
     "metadata": {},
     "output_type": "execute_result"
    }
   ],
   "source": [
    "import joblib\n",
    "joblib.dump(lr, 'Prj_Sal.pkl')\n",
    "clf = joblib.load('Prj_Sal.pkl')\n",
    "clf.predict(x_test)"
   ]
  },
  {
   "cell_type": "code",
   "execution_count": null,
   "metadata": {},
   "outputs": [],
   "source": []
  },
  {
   "cell_type": "code",
   "execution_count": null,
   "metadata": {},
   "outputs": [],
   "source": []
  },
  {
   "cell_type": "code",
   "execution_count": null,
   "metadata": {},
   "outputs": [],
   "source": []
  },
  {
   "cell_type": "code",
   "execution_count": null,
   "metadata": {},
   "outputs": [],
   "source": []
  },
  {
   "cell_type": "code",
   "execution_count": null,
   "metadata": {},
   "outputs": [],
   "source": []
  },
  {
   "cell_type": "code",
   "execution_count": null,
   "metadata": {},
   "outputs": [],
   "source": []
  },
  {
   "cell_type": "code",
   "execution_count": null,
   "metadata": {},
   "outputs": [],
   "source": []
  },
  {
   "cell_type": "code",
   "execution_count": null,
   "metadata": {},
   "outputs": [],
   "source": []
  },
  {
   "cell_type": "code",
   "execution_count": null,
   "metadata": {},
   "outputs": [],
   "source": []
  },
  {
   "cell_type": "code",
   "execution_count": 487,
   "metadata": {},
   "outputs": [
    {
     "data": {
      "text/plain": [
       "array([-0.25208589, -0.43572213,  0.05839215, -0.17033891, -0.19816747,\n",
       "        0.25179426,  0.14709347, -0.12957301, -0.3541313 ,  0.05707272,\n",
       "        0.44587863,  0.16115889,  0.04894194, -0.01467685, -0.22445102,\n",
       "       -0.1974353 , -0.16997612, -0.34606489,  0.43371851, -0.41366688,\n",
       "       -0.03059846,  0.36005868, -0.62933802, -0.25401722, -0.13036668,\n",
       "        0.34871881, -0.03406701, -0.29523666,  0.19641884, -0.32568704,\n",
       "        0.05248471, -0.21675665, -0.00146218,  0.02601189,  0.05187947,\n",
       "       -0.29567323, -0.13506723,  0.17466876, -0.12760382, -0.43334654,\n",
       "       -0.13816958,  0.09347576,  0.00862949,  0.16465329, -0.21387599,\n",
       "        0.09760411,  0.18059433,  0.07925625, -0.13129168, -0.29692351,\n",
       "       -0.26913538,  0.08221847, -0.4263985 , -0.10144309,  0.24519148,\n",
       "        0.05411089,  0.22963915,  0.0957321 , -0.49353823,  0.12430971,\n",
       "       -0.33072265, -0.06582237, -0.17346151, -0.32351675,  0.35876159,\n",
       "       -0.17752278,  0.44856666,  0.14933847,  0.22135317,  0.26229784,\n",
       "       -0.13245072, -0.3369101 , -0.47089419,  0.26226025, -0.38184841,\n",
       "       -0.46383454,  0.01626049, -0.23536644,  0.46370081, -0.29415811,\n",
       "       -0.42470992,  0.4227097 , -0.2242578 , -0.08222364,  0.26150803,\n",
       "        0.25759677, -0.0778125 , -0.13303527,  0.20536739,  0.21786621,\n",
       "       -0.33900738, -0.09870556])"
      ]
     },
     "execution_count": 487,
     "metadata": {},
     "output_type": "execute_result"
    }
   ],
   "source": []
  },
  {
   "cell_type": "code",
   "execution_count": null,
   "metadata": {},
   "outputs": [],
   "source": []
  },
  {
   "cell_type": "code",
   "execution_count": null,
   "metadata": {},
   "outputs": [],
   "source": []
  },
  {
   "cell_type": "code",
   "execution_count": null,
   "metadata": {},
   "outputs": [],
   "source": []
  },
  {
   "cell_type": "code",
   "execution_count": null,
   "metadata": {},
   "outputs": [],
   "source": []
  },
  {
   "cell_type": "code",
   "execution_count": null,
   "metadata": {},
   "outputs": [],
   "source": []
  },
  {
   "cell_type": "code",
   "execution_count": null,
   "metadata": {},
   "outputs": [],
   "source": []
  },
  {
   "cell_type": "code",
   "execution_count": null,
   "metadata": {},
   "outputs": [],
   "source": []
  },
  {
   "cell_type": "code",
   "execution_count": null,
   "metadata": {},
   "outputs": [],
   "source": []
  },
  {
   "cell_type": "code",
   "execution_count": null,
   "metadata": {},
   "outputs": [],
   "source": []
  },
  {
   "cell_type": "code",
   "execution_count": null,
   "metadata": {},
   "outputs": [],
   "source": []
  },
  {
   "cell_type": "code",
   "execution_count": null,
   "metadata": {},
   "outputs": [],
   "source": []
  },
  {
   "cell_type": "code",
   "execution_count": null,
   "metadata": {},
   "outputs": [],
   "source": []
  },
  {
   "cell_type": "code",
   "execution_count": null,
   "metadata": {},
   "outputs": [],
   "source": []
  },
  {
   "cell_type": "code",
   "execution_count": null,
   "metadata": {},
   "outputs": [],
   "source": []
  },
  {
   "cell_type": "code",
   "execution_count": null,
   "metadata": {},
   "outputs": [],
   "source": []
  },
  {
   "cell_type": "code",
   "execution_count": null,
   "metadata": {},
   "outputs": [],
   "source": []
  },
  {
   "cell_type": "code",
   "execution_count": null,
   "metadata": {},
   "outputs": [],
   "source": []
  },
  {
   "cell_type": "code",
   "execution_count": null,
   "metadata": {},
   "outputs": [],
   "source": []
  },
  {
   "cell_type": "code",
   "execution_count": null,
   "metadata": {},
   "outputs": [],
   "source": []
  },
  {
   "cell_type": "code",
   "execution_count": null,
   "metadata": {},
   "outputs": [],
   "source": []
  },
  {
   "cell_type": "code",
   "execution_count": null,
   "metadata": {},
   "outputs": [],
   "source": []
  },
  {
   "cell_type": "code",
   "execution_count": null,
   "metadata": {},
   "outputs": [],
   "source": []
  },
  {
   "cell_type": "code",
   "execution_count": null,
   "metadata": {},
   "outputs": [],
   "source": []
  },
  {
   "cell_type": "code",
   "execution_count": null,
   "metadata": {},
   "outputs": [],
   "source": []
  },
  {
   "cell_type": "code",
   "execution_count": null,
   "metadata": {},
   "outputs": [],
   "source": []
  },
  {
   "cell_type": "code",
   "execution_count": null,
   "metadata": {},
   "outputs": [],
   "source": []
  },
  {
   "cell_type": "code",
   "execution_count": null,
   "metadata": {},
   "outputs": [],
   "source": []
  },
  {
   "cell_type": "code",
   "execution_count": null,
   "metadata": {},
   "outputs": [],
   "source": []
  },
  {
   "cell_type": "code",
   "execution_count": null,
   "metadata": {},
   "outputs": [],
   "source": []
  },
  {
   "cell_type": "code",
   "execution_count": null,
   "metadata": {},
   "outputs": [],
   "source": []
  },
  {
   "cell_type": "code",
   "execution_count": null,
   "metadata": {},
   "outputs": [],
   "source": []
  },
  {
   "cell_type": "code",
   "execution_count": null,
   "metadata": {},
   "outputs": [],
   "source": []
  },
  {
   "cell_type": "code",
   "execution_count": null,
   "metadata": {},
   "outputs": [],
   "source": []
  },
  {
   "cell_type": "code",
   "execution_count": null,
   "metadata": {},
   "outputs": [],
   "source": []
  },
  {
   "cell_type": "code",
   "execution_count": null,
   "metadata": {},
   "outputs": [],
   "source": []
  },
  {
   "cell_type": "code",
   "execution_count": null,
   "metadata": {},
   "outputs": [],
   "source": []
  },
  {
   "cell_type": "code",
   "execution_count": null,
   "metadata": {},
   "outputs": [],
   "source": []
  },
  {
   "cell_type": "code",
   "execution_count": null,
   "metadata": {},
   "outputs": [],
   "source": []
  },
  {
   "cell_type": "code",
   "execution_count": null,
   "metadata": {},
   "outputs": [],
   "source": []
  },
  {
   "cell_type": "code",
   "execution_count": null,
   "metadata": {},
   "outputs": [],
   "source": []
  },
  {
   "cell_type": "code",
   "execution_count": null,
   "metadata": {},
   "outputs": [],
   "source": []
  },
  {
   "cell_type": "code",
   "execution_count": null,
   "metadata": {},
   "outputs": [],
   "source": []
  }
 ],
 "metadata": {
  "kernelspec": {
   "display_name": "Python 3",
   "language": "python",
   "name": "python3"
  },
  "language_info": {
   "codemirror_mode": {
    "name": "ipython",
    "version": 3
   },
   "file_extension": ".py",
   "mimetype": "text/x-python",
   "name": "python",
   "nbconvert_exporter": "python",
   "pygments_lexer": "ipython3",
   "version": "3.7.6"
  }
 },
 "nbformat": 4,
 "nbformat_minor": 4
}
