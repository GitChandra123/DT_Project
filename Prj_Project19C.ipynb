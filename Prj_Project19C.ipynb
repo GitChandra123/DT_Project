{
 "cells": [
  {
   "cell_type": "code",
   "execution_count": 219,
   "metadata": {},
   "outputs": [],
   "source": [
    "import numpy as np\n",
    "import pandas as pd\n",
    "import matplotlib.pyplot as plt\n",
    "import seaborn as sns\n",
    "import sklearn\n",
    "\n",
    "from sklearn.preprocessing import LabelEncoder, StandardScaler\n",
    "from sklearn.metrics import accuracy_score, classification_report , confusion_matrix\n"
   ]
  },
  {
   "cell_type": "code",
   "execution_count": 220,
   "metadata": {},
   "outputs": [
    {
     "data": {
      "text/html": [
       "<div>\n",
       "<style scoped>\n",
       "    .dataframe tbody tr th:only-of-type {\n",
       "        vertical-align: middle;\n",
       "    }\n",
       "\n",
       "    .dataframe tbody tr th {\n",
       "        vertical-align: top;\n",
       "    }\n",
       "\n",
       "    .dataframe thead th {\n",
       "        text-align: right;\n",
       "    }\n",
       "</style>\n",
       "<table border=\"1\" class=\"dataframe\">\n",
       "  <thead>\n",
       "    <tr style=\"text-align: right;\">\n",
       "      <th></th>\n",
       "      <th>Date</th>\n",
       "      <th>Country</th>\n",
       "      <th>Confirmed</th>\n",
       "      <th>Recovered</th>\n",
       "      <th>Deaths</th>\n",
       "    </tr>\n",
       "  </thead>\n",
       "  <tbody>\n",
       "    <tr>\n",
       "      <th>0</th>\n",
       "      <td>2020-01-22</td>\n",
       "      <td>Afghanistan</td>\n",
       "      <td>0</td>\n",
       "      <td>0</td>\n",
       "      <td>0</td>\n",
       "    </tr>\n",
       "    <tr>\n",
       "      <th>1</th>\n",
       "      <td>2020-01-22</td>\n",
       "      <td>Albania</td>\n",
       "      <td>0</td>\n",
       "      <td>0</td>\n",
       "      <td>0</td>\n",
       "    </tr>\n",
       "    <tr>\n",
       "      <th>2</th>\n",
       "      <td>2020-01-22</td>\n",
       "      <td>Algeria</td>\n",
       "      <td>0</td>\n",
       "      <td>0</td>\n",
       "      <td>0</td>\n",
       "    </tr>\n",
       "    <tr>\n",
       "      <th>3</th>\n",
       "      <td>2020-01-22</td>\n",
       "      <td>Andorra</td>\n",
       "      <td>0</td>\n",
       "      <td>0</td>\n",
       "      <td>0</td>\n",
       "    </tr>\n",
       "    <tr>\n",
       "      <th>4</th>\n",
       "      <td>2020-01-22</td>\n",
       "      <td>Angola</td>\n",
       "      <td>0</td>\n",
       "      <td>0</td>\n",
       "      <td>0</td>\n",
       "    </tr>\n",
       "    <tr>\n",
       "      <th>...</th>\n",
       "      <td>...</td>\n",
       "      <td>...</td>\n",
       "      <td>...</td>\n",
       "      <td>...</td>\n",
       "      <td>...</td>\n",
       "    </tr>\n",
       "    <tr>\n",
       "      <th>23683</th>\n",
       "      <td>2020-05-26</td>\n",
       "      <td>West Bank and Gaza</td>\n",
       "      <td>429</td>\n",
       "      <td>365</td>\n",
       "      <td>3</td>\n",
       "    </tr>\n",
       "    <tr>\n",
       "      <th>23684</th>\n",
       "      <td>2020-05-26</td>\n",
       "      <td>Western Sahara</td>\n",
       "      <td>9</td>\n",
       "      <td>6</td>\n",
       "      <td>1</td>\n",
       "    </tr>\n",
       "    <tr>\n",
       "      <th>23685</th>\n",
       "      <td>2020-05-26</td>\n",
       "      <td>Yemen</td>\n",
       "      <td>249</td>\n",
       "      <td>10</td>\n",
       "      <td>49</td>\n",
       "    </tr>\n",
       "    <tr>\n",
       "      <th>23686</th>\n",
       "      <td>2020-05-26</td>\n",
       "      <td>Zambia</td>\n",
       "      <td>920</td>\n",
       "      <td>336</td>\n",
       "      <td>7</td>\n",
       "    </tr>\n",
       "    <tr>\n",
       "      <th>23687</th>\n",
       "      <td>2020-05-26</td>\n",
       "      <td>Zimbabwe</td>\n",
       "      <td>56</td>\n",
       "      <td>25</td>\n",
       "      <td>4</td>\n",
       "    </tr>\n",
       "  </tbody>\n",
       "</table>\n",
       "<p>23688 rows × 5 columns</p>\n",
       "</div>"
      ],
      "text/plain": [
       "             Date             Country  Confirmed  Recovered  Deaths\n",
       "0      2020-01-22         Afghanistan          0          0       0\n",
       "1      2020-01-22             Albania          0          0       0\n",
       "2      2020-01-22             Algeria          0          0       0\n",
       "3      2020-01-22             Andorra          0          0       0\n",
       "4      2020-01-22              Angola          0          0       0\n",
       "...           ...                 ...        ...        ...     ...\n",
       "23683  2020-05-26  West Bank and Gaza        429        365       3\n",
       "23684  2020-05-26      Western Sahara          9          6       1\n",
       "23685  2020-05-26               Yemen        249         10      49\n",
       "23686  2020-05-26              Zambia        920        336       7\n",
       "23687  2020-05-26            Zimbabwe         56         25       4\n",
       "\n",
       "[23688 rows x 5 columns]"
      ]
     },
     "execution_count": 220,
     "metadata": {},
     "output_type": "execute_result"
    }
   ],
   "source": [
    "# Reading the file and getting the data\n",
    "ac_ds = pd.read_csv('ac_country.csv')\n",
    "ac_ds"
   ]
  },
  {
   "cell_type": "code",
   "execution_count": 221,
   "metadata": {},
   "outputs": [
    {
     "data": {
      "text/plain": [
       "Index(['Date', 'Country', 'Confirmed', 'Recovered', 'Deaths'], dtype='object')"
      ]
     },
     "execution_count": 221,
     "metadata": {},
     "output_type": "execute_result"
    }
   ],
   "source": [
    "#Getting the columns\n",
    "ac_ds.columns"
   ]
  },
  {
   "cell_type": "code",
   "execution_count": 222,
   "metadata": {},
   "outputs": [
    {
     "data": {
      "text/plain": [
       "Date         object\n",
       "Country      object\n",
       "Confirmed     int64\n",
       "Recovered     int64\n",
       "Deaths        int64\n",
       "dtype: object"
      ]
     },
     "execution_count": 222,
     "metadata": {},
     "output_type": "execute_result"
    }
   ],
   "source": [
    "#getting datatypes\n",
    "ac_ds.dtypes"
   ]
  },
  {
   "cell_type": "code",
   "execution_count": 224,
   "metadata": {},
   "outputs": [
    {
     "data": {
      "text/plain": [
       "Date         0\n",
       "Country      0\n",
       "Confirmed    0\n",
       "Recovered    0\n",
       "Deaths       0\n",
       "dtype: int64"
      ]
     },
     "execution_count": 224,
     "metadata": {},
     "output_type": "execute_result"
    }
   ],
   "source": [
    "ac_ds.isnull().sum()"
   ]
  },
  {
   "cell_type": "code",
   "execution_count": 225,
   "metadata": {},
   "outputs": [
    {
     "data": {
      "text/plain": [
       "<matplotlib.axes._subplots.AxesSubplot at 0x18746de87c8>"
      ]
     },
     "execution_count": 225,
     "metadata": {},
     "output_type": "execute_result"
    },
    {
     "data": {
      "image/png": "[encoded data removed]",
      "text/plain": [
       "<Figure size 432x288 with 2 Axes>"
      ]
     },
     "metadata": {
      "needs_background": "light"
     },
     "output_type": "display_data"
    }
   ],
   "source": [
    "# Heatmap to check the null values\n",
    "sns.heatmap(ac_ds.isnull())"
   ]
  },
  {
   "cell_type": "code",
   "execution_count": 226,
   "metadata": {},
   "outputs": [
    {
     "data": {
      "image/png": "[encoded data removed]",
      "text/plain": [
       "<Figure size 432x288 with 1 Axes>"
      ]
     },
     "metadata": {
      "needs_background": "light"
     },
     "output_type": "display_data"
    }
   ],
   "source": [
    "# Bivariate Analysis: Shows the relation between 'Country' and 'Death'\n",
    "sns.barplot(x=ac_ds['Country'], y=ac_ds['Deaths'])\n",
    "plt.show()"
   ]
  },
  {
   "cell_type": "code",
   "execution_count": 227,
   "metadata": {},
   "outputs": [
    {
     "data": {
      "image/png": "[encoded data removed]",
      "text/plain": [
       "<Figure size 432x288 with 1 Axes>"
      ]
     },
     "metadata": {
      "needs_background": "light"
     },
     "output_type": "display_data"
    }
   ],
   "source": [
    "# Bivariate Analysis: Shows the relation between 'Date' and 'Death'\n",
    "sns.barplot(x=ac_ds['Date'], y=ac_ds['Deaths'])\n",
    "plt.show()"
   ]
  },
  {
   "cell_type": "code",
   "execution_count": null,
   "metadata": {},
   "outputs": [],
   "source": []
  },
  {
   "cell_type": "code",
   "execution_count": 228,
   "metadata": {},
   "outputs": [
    {
     "data": {
      "text/html": [
       "<div>\n",
       "<style scoped>\n",
       "    .dataframe tbody tr th:only-of-type {\n",
       "        vertical-align: middle;\n",
       "    }\n",
       "\n",
       "    .dataframe tbody tr th {\n",
       "        vertical-align: top;\n",
       "    }\n",
       "\n",
       "    .dataframe thead th {\n",
       "        text-align: right;\n",
       "    }\n",
       "</style>\n",
       "<table border=\"1\" class=\"dataframe\">\n",
       "  <thead>\n",
       "    <tr style=\"text-align: right;\">\n",
       "      <th></th>\n",
       "      <th>Date</th>\n",
       "      <th>Country</th>\n",
       "      <th>Confirmed</th>\n",
       "      <th>Recovered</th>\n",
       "      <th>Deaths</th>\n",
       "    </tr>\n",
       "  </thead>\n",
       "  <tbody>\n",
       "    <tr>\n",
       "      <th>0</th>\n",
       "      <td>0</td>\n",
       "      <td>0</td>\n",
       "      <td>0</td>\n",
       "      <td>0</td>\n",
       "      <td>0</td>\n",
       "    </tr>\n",
       "    <tr>\n",
       "      <th>1</th>\n",
       "      <td>0</td>\n",
       "      <td>1</td>\n",
       "      <td>0</td>\n",
       "      <td>0</td>\n",
       "      <td>0</td>\n",
       "    </tr>\n",
       "    <tr>\n",
       "      <th>2</th>\n",
       "      <td>0</td>\n",
       "      <td>2</td>\n",
       "      <td>0</td>\n",
       "      <td>0</td>\n",
       "      <td>0</td>\n",
       "    </tr>\n",
       "    <tr>\n",
       "      <th>3</th>\n",
       "      <td>0</td>\n",
       "      <td>3</td>\n",
       "      <td>0</td>\n",
       "      <td>0</td>\n",
       "      <td>0</td>\n",
       "    </tr>\n",
       "    <tr>\n",
       "      <th>4</th>\n",
       "      <td>0</td>\n",
       "      <td>4</td>\n",
       "      <td>0</td>\n",
       "      <td>0</td>\n",
       "      <td>0</td>\n",
       "    </tr>\n",
       "    <tr>\n",
       "      <th>...</th>\n",
       "      <td>...</td>\n",
       "      <td>...</td>\n",
       "      <td>...</td>\n",
       "      <td>...</td>\n",
       "      <td>...</td>\n",
       "    </tr>\n",
       "    <tr>\n",
       "      <th>23683</th>\n",
       "      <td>125</td>\n",
       "      <td>183</td>\n",
       "      <td>429</td>\n",
       "      <td>365</td>\n",
       "      <td>3</td>\n",
       "    </tr>\n",
       "    <tr>\n",
       "      <th>23684</th>\n",
       "      <td>125</td>\n",
       "      <td>184</td>\n",
       "      <td>9</td>\n",
       "      <td>6</td>\n",
       "      <td>1</td>\n",
       "    </tr>\n",
       "    <tr>\n",
       "      <th>23685</th>\n",
       "      <td>125</td>\n",
       "      <td>185</td>\n",
       "      <td>249</td>\n",
       "      <td>10</td>\n",
       "      <td>49</td>\n",
       "    </tr>\n",
       "    <tr>\n",
       "      <th>23686</th>\n",
       "      <td>125</td>\n",
       "      <td>186</td>\n",
       "      <td>920</td>\n",
       "      <td>336</td>\n",
       "      <td>7</td>\n",
       "    </tr>\n",
       "    <tr>\n",
       "      <th>23687</th>\n",
       "      <td>125</td>\n",
       "      <td>187</td>\n",
       "      <td>56</td>\n",
       "      <td>25</td>\n",
       "      <td>4</td>\n",
       "    </tr>\n",
       "  </tbody>\n",
       "</table>\n",
       "<p>23688 rows × 5 columns</p>\n",
       "</div>"
      ],
      "text/plain": [
       "       Date  Country  Confirmed  Recovered  Deaths\n",
       "0         0        0          0          0       0\n",
       "1         0        1          0          0       0\n",
       "2         0        2          0          0       0\n",
       "3         0        3          0          0       0\n",
       "4         0        4          0          0       0\n",
       "...     ...      ...        ...        ...     ...\n",
       "23683   125      183        429        365       3\n",
       "23684   125      184          9          6       1\n",
       "23685   125      185        249         10      49\n",
       "23686   125      186        920        336       7\n",
       "23687   125      187         56         25       4\n",
       "\n",
       "[23688 rows x 5 columns]"
      ]
     },
     "execution_count": 228,
     "metadata": {},
     "output_type": "execute_result"
    }
   ],
   "source": [
    "# using LabelEncoder to convert categorical data to numbers for further process\n",
    "from sklearn.preprocessing import LabelEncoder, StandardScaler\n",
    "\n",
    "le = LabelEncoder()\n",
    "ac_ds['Date'] = ac_ds['Date'].astype('category')\n",
    "ac_ds['Date'] = le.fit_transform(ac_ds['Date'])\n",
    "\n",
    "ac_ds['Country'] = ac_ds['Country'].astype('category')\n",
    "ac_ds['Country'] = le.fit_transform(ac_ds['Country'])\n",
    "\n",
    "ac_ds"
   ]
  },
  {
   "cell_type": "code",
   "execution_count": null,
   "metadata": {},
   "outputs": [],
   "source": []
  },
  {
   "cell_type": "code",
   "execution_count": 229,
   "metadata": {},
   "outputs": [
    {
     "data": {
      "image/png": "[encoded data removed]",
      "text/plain": [
       "<Figure size 432x288 with 1 Axes>"
      ]
     },
     "metadata": {
      "needs_background": "light"
     },
     "output_type": "display_data"
    }
   ],
   "source": [
    "# Checking the visualization between 'Date' and 'Deaths'\n",
    "sns.lineplot(x='Date', y='Deaths', data=ac_ds)\n",
    "plt.show()"
   ]
  },
  {
   "cell_type": "code",
   "execution_count": 230,
   "metadata": {},
   "outputs": [
    {
     "data": {
      "image/png": "[encoded data removed]",
      "text/plain": [
       "<Figure size 432x288 with 1 Axes>"
      ]
     },
     "metadata": {
      "needs_background": "light"
     },
     "output_type": "display_data"
    }
   ],
   "source": [
    "# Scatterplot.. visualization of deaths in Country\n",
    "sns.scatterplot(x='Country', y='Deaths', data=ac_ds)\n",
    "plt.show()"
   ]
  },
  {
   "cell_type": "code",
   "execution_count": 231,
   "metadata": {},
   "outputs": [
    {
     "data": {
      "text/html": [
       "<div>\n",
       "<style scoped>\n",
       "    .dataframe tbody tr th:only-of-type {\n",
       "        vertical-align: middle;\n",
       "    }\n",
       "\n",
       "    .dataframe tbody tr th {\n",
       "        vertical-align: top;\n",
       "    }\n",
       "\n",
       "    .dataframe thead th {\n",
       "        text-align: right;\n",
       "    }\n",
       "</style>\n",
       "<table border=\"1\" class=\"dataframe\">\n",
       "  <thead>\n",
       "    <tr style=\"text-align: right;\">\n",
       "      <th></th>\n",
       "      <th>Deaths</th>\n",
       "      <th>Confirmed</th>\n",
       "      <th>Recovered</th>\n",
       "    </tr>\n",
       "    <tr>\n",
       "      <th>Date</th>\n",
       "      <th></th>\n",
       "      <th></th>\n",
       "      <th></th>\n",
       "    </tr>\n",
       "  </thead>\n",
       "  <tbody>\n",
       "    <tr>\n",
       "      <th>0</th>\n",
       "      <td>17</td>\n",
       "      <td>555</td>\n",
       "      <td>28</td>\n",
       "    </tr>\n",
       "    <tr>\n",
       "      <th>1</th>\n",
       "      <td>18</td>\n",
       "      <td>654</td>\n",
       "      <td>30</td>\n",
       "    </tr>\n",
       "    <tr>\n",
       "      <th>2</th>\n",
       "      <td>26</td>\n",
       "      <td>941</td>\n",
       "      <td>36</td>\n",
       "    </tr>\n",
       "    <tr>\n",
       "      <th>3</th>\n",
       "      <td>42</td>\n",
       "      <td>1434</td>\n",
       "      <td>39</td>\n",
       "    </tr>\n",
       "    <tr>\n",
       "      <th>4</th>\n",
       "      <td>56</td>\n",
       "      <td>2118</td>\n",
       "      <td>52</td>\n",
       "    </tr>\n",
       "    <tr>\n",
       "      <th>...</th>\n",
       "      <td>...</td>\n",
       "      <td>...</td>\n",
       "      <td>...</td>\n",
       "    </tr>\n",
       "    <tr>\n",
       "      <th>121</th>\n",
       "      <td>338160</td>\n",
       "      <td>5210817</td>\n",
       "      <td>2056643</td>\n",
       "    </tr>\n",
       "    <tr>\n",
       "      <th>122</th>\n",
       "      <td>342097</td>\n",
       "      <td>5310362</td>\n",
       "      <td>2112185</td>\n",
       "    </tr>\n",
       "    <tr>\n",
       "      <th>123</th>\n",
       "      <td>345059</td>\n",
       "      <td>5407613</td>\n",
       "      <td>2168563</td>\n",
       "    </tr>\n",
       "    <tr>\n",
       "      <th>124</th>\n",
       "      <td>346232</td>\n",
       "      <td>5495061</td>\n",
       "      <td>2231738</td>\n",
       "    </tr>\n",
       "    <tr>\n",
       "      <th>125</th>\n",
       "      <td>350453</td>\n",
       "      <td>5589626</td>\n",
       "      <td>2286956</td>\n",
       "    </tr>\n",
       "  </tbody>\n",
       "</table>\n",
       "<p>126 rows × 3 columns</p>\n",
       "</div>"
      ],
      "text/plain": [
       "      Deaths  Confirmed  Recovered\n",
       "Date                              \n",
       "0         17        555         28\n",
       "1         18        654         30\n",
       "2         26        941         36\n",
       "3         42       1434         39\n",
       "4         56       2118         52\n",
       "...      ...        ...        ...\n",
       "121   338160    5210817    2056643\n",
       "122   342097    5310362    2112185\n",
       "123   345059    5407613    2168563\n",
       "124   346232    5495061    2231738\n",
       "125   350453    5589626    2286956\n",
       "\n",
       "[126 rows x 3 columns]"
      ]
     },
     "execution_count": 231,
     "metadata": {},
     "output_type": "execute_result"
    }
   ],
   "source": [
    "# Changing data datewise\n",
    "# Datewise Deaths, Recovered, Confirmed\n",
    "r_death = ac_ds.groupby(['Date'])['Deaths'].sum()\n",
    "r_conf = ac_ds.groupby(['Date'])['Confirmed'].sum()\n",
    "r_recov = ac_ds.groupby(['Date'])['Recovered'].sum()\n",
    "\n",
    "x_input = pd.DataFrame()\n",
    "x_input['Deaths'] = r_death\n",
    "x_input['Confirmed'] = r_conf\n",
    "x_input['Recovered'] = r_recov\n",
    "x_input"
   ]
  },
  {
   "cell_type": "code",
   "execution_count": 234,
   "metadata": {},
   "outputs": [
    {
     "data": {
      "text/plain": [
       "Index(['Deaths', 'Confirmed', 'Recovered'], dtype='object')"
      ]
     },
     "execution_count": 234,
     "metadata": {},
     "output_type": "execute_result"
    }
   ],
   "source": [
    "# Checking the columns of new dataframe\n",
    "x_input.columns"
   ]
  },
  {
   "cell_type": "code",
   "execution_count": 238,
   "metadata": {},
   "outputs": [
    {
     "data": {
      "text/plain": [
       "Deaths      -0.538899\n",
       "Confirmed   -0.683808\n",
       "Recovered   -1.075548\n",
       "dtype: float64"
      ]
     },
     "execution_count": 238,
     "metadata": {},
     "output_type": "execute_result"
    }
   ],
   "source": [
    "# Checking the skewness of data\n",
    "x_input.skew()"
   ]
  },
  {
   "cell_type": "code",
   "execution_count": 240,
   "metadata": {},
   "outputs": [
    {
     "data": {
      "text/html": [
       "<div>\n",
       "<style scoped>\n",
       "    .dataframe tbody tr th:only-of-type {\n",
       "        vertical-align: middle;\n",
       "    }\n",
       "\n",
       "    .dataframe tbody tr th {\n",
       "        vertical-align: top;\n",
       "    }\n",
       "\n",
       "    .dataframe thead th {\n",
       "        text-align: right;\n",
       "    }\n",
       "</style>\n",
       "<table border=\"1\" class=\"dataframe\">\n",
       "  <thead>\n",
       "    <tr style=\"text-align: right;\">\n",
       "      <th></th>\n",
       "      <th>Deaths</th>\n",
       "      <th>Confirmed</th>\n",
       "      <th>Recovered</th>\n",
       "    </tr>\n",
       "    <tr>\n",
       "      <th>Date</th>\n",
       "      <th></th>\n",
       "      <th></th>\n",
       "      <th></th>\n",
       "    </tr>\n",
       "  </thead>\n",
       "  <tbody>\n",
       "    <tr>\n",
       "      <th>0</th>\n",
       "      <td>2.890372</td>\n",
       "      <td>6.320768</td>\n",
       "      <td>3.367296</td>\n",
       "    </tr>\n",
       "    <tr>\n",
       "      <th>1</th>\n",
       "      <td>2.944439</td>\n",
       "      <td>6.484635</td>\n",
       "      <td>3.433987</td>\n",
       "    </tr>\n",
       "    <tr>\n",
       "      <th>2</th>\n",
       "      <td>3.295837</td>\n",
       "      <td>6.848005</td>\n",
       "      <td>3.610918</td>\n",
       "    </tr>\n",
       "    <tr>\n",
       "      <th>3</th>\n",
       "      <td>3.761200</td>\n",
       "      <td>7.268920</td>\n",
       "      <td>3.688879</td>\n",
       "    </tr>\n",
       "    <tr>\n",
       "      <th>4</th>\n",
       "      <td>4.043051</td>\n",
       "      <td>7.658700</td>\n",
       "      <td>3.970292</td>\n",
       "    </tr>\n",
       "    <tr>\n",
       "      <th>...</th>\n",
       "      <td>...</td>\n",
       "      <td>...</td>\n",
       "      <td>...</td>\n",
       "    </tr>\n",
       "    <tr>\n",
       "      <th>121</th>\n",
       "      <td>12.731277</td>\n",
       "      <td>15.466247</td>\n",
       "      <td>14.536586</td>\n",
       "    </tr>\n",
       "    <tr>\n",
       "      <th>122</th>\n",
       "      <td>12.742853</td>\n",
       "      <td>15.485171</td>\n",
       "      <td>14.563234</td>\n",
       "    </tr>\n",
       "    <tr>\n",
       "      <th>123</th>\n",
       "      <td>12.751474</td>\n",
       "      <td>15.503319</td>\n",
       "      <td>14.589576</td>\n",
       "    </tr>\n",
       "    <tr>\n",
       "      <th>124</th>\n",
       "      <td>12.754867</td>\n",
       "      <td>15.519360</td>\n",
       "      <td>14.618292</td>\n",
       "    </tr>\n",
       "    <tr>\n",
       "      <th>125</th>\n",
       "      <td>12.766985</td>\n",
       "      <td>15.536423</td>\n",
       "      <td>14.642733</td>\n",
       "    </tr>\n",
       "  </tbody>\n",
       "</table>\n",
       "<p>126 rows × 3 columns</p>\n",
       "</div>"
      ],
      "text/plain": [
       "         Deaths  Confirmed  Recovered\n",
       "Date                                 \n",
       "0      2.890372   6.320768   3.367296\n",
       "1      2.944439   6.484635   3.433987\n",
       "2      3.295837   6.848005   3.610918\n",
       "3      3.761200   7.268920   3.688879\n",
       "4      4.043051   7.658700   3.970292\n",
       "...         ...        ...        ...\n",
       "121   12.731277  15.466247  14.536586\n",
       "122   12.742853  15.485171  14.563234\n",
       "123   12.751474  15.503319  14.589576\n",
       "124   12.754867  15.519360  14.618292\n",
       "125   12.766985  15.536423  14.642733\n",
       "\n",
       "[126 rows x 3 columns]"
      ]
     },
     "execution_count": 240,
     "metadata": {},
     "output_type": "execute_result"
    }
   ],
   "source": [
    "x_input"
   ]
  },
  {
   "cell_type": "code",
   "execution_count": 241,
   "metadata": {},
   "outputs": [
    {
     "name": "stdout",
     "output_type": "stream",
     "text": [
      "(126, 3)\n",
      "(126, 3)\n"
     ]
    }
   ],
   "source": [
    "# Checking for outliers and removing it\n",
    "from scipy.stats import zscore\n",
    "z_score = abs(zscore(x_input))\n",
    "print (x_input.shape)\n",
    "\n",
    "x_input_f = x_input.loc[(z_score < 3).all(axis=1)]\n",
    "print (x_input_f.shape)\n",
    "\n",
    "# It shows no outliers are present"
   ]
  },
  {
   "cell_type": "code",
   "execution_count": 242,
   "metadata": {},
   "outputs": [
    {
     "data": {
      "text/plain": [
       "Deaths      -0.538899\n",
       "Confirmed   -0.683808\n",
       "Recovered   -1.075548\n",
       "dtype: float64"
      ]
     },
     "execution_count": 242,
     "metadata": {},
     "output_type": "execute_result"
    }
   ],
   "source": []
  },
  {
   "cell_type": "code",
   "execution_count": 245,
   "metadata": {},
   "outputs": [],
   "source": [
    "# StandardScaler: Further scaling the data\n",
    "sc = StandardScaler()\n",
    "x_input_f = sc.fit_transform(x_input_f)"
   ]
  },
  {
   "cell_type": "code",
   "execution_count": 246,
   "metadata": {},
   "outputs": [
    {
     "data": {
      "text/plain": [
       "array([[-2.51759224e+00, -2.81676694e+00, -2.67080082e+00],\n",
       "       [-2.49736631e+00, -2.74491959e+00, -2.64806108e+00],\n",
       "       [-2.36591234e+00, -2.58560023e+00, -2.58773305e+00],\n",
       "       [-2.19182523e+00, -2.40105038e+00, -2.56115053e+00],\n",
       "       [-2.08638791e+00, -2.23015184e+00, -2.46519738e+00],\n",
       "       [-1.94580938e+00, -2.08836814e+00, -2.41171884e+00],\n",
       "       [-1.77224671e+00, -1.80570424e+00, -2.22248169e+00],\n",
       "       [-1.76662121e+00, -1.76177033e+00, -2.16722554e+00],\n",
       "       [-1.67322823e+00, -1.63497916e+00, -2.12439080e+00],\n",
       "       [-1.59149676e+00, -1.55300418e+00, -1.97526478e+00],\n",
       "       [-1.51865960e+00, -1.46847450e+00, -1.89161896e+00],\n",
       "       [-1.39381828e+00, -1.32268441e+00, -1.71888155e+00],\n",
       "       [-1.33307332e+00, -1.24852050e+00, -1.62441418e+00],\n",
       "       [-1.27930737e+00, -1.16794634e+00, -1.51782390e+00],\n",
       "       [-1.22831289e+00, -1.10413716e+00, -1.42345071e+00],\n",
       "       [-1.18461961e+00, -1.05668244e+00, -1.32809854e+00],\n",
       "       [-1.13762427e+00, -1.00824622e+00, -1.22522922e+00],\n",
       "       [-1.09495106e+00, -9.74766728e-01, -1.13558848e+00],\n",
       "       [-1.05125048e+00, -9.40364019e-01, -1.06225040e+00],\n",
       "       [-1.00953370e+00, -9.12730355e-01, -9.95474732e-01],\n",
       "       [-9.74349081e-01, -8.92297800e-01, -9.37101849e-01],\n",
       "       [-9.72673804e-01, -8.88216454e-01, -9.04696619e-01],\n",
       "       [-8.96421779e-01, -7.61551927e-01, -8.36255924e-01],\n",
       "       [-8.57116685e-01, -7.16604751e-01, -7.52079022e-01],\n",
       "       [-8.23565740e-01, -7.02764658e-01, -6.99742007e-01],\n",
       "       [-8.00926360e-01, -6.89046367e-01, -6.50180488e-01],\n",
       "       [-7.80778256e-01, -6.76700849e-01, -6.00130381e-01],\n",
       "       [-7.53942754e-01, -6.65602815e-01, -5.55281667e-01],\n",
       "       [-7.33109389e-01, -6.62677424e-01, -5.15652176e-01],\n",
       "       [-7.11707497e-01, -6.59454834e-01, -4.74726504e-01],\n",
       "       [-7.11042450e-01, -6.55890325e-01, -4.61608187e-01],\n",
       "       [-6.78146570e-01, -6.45997546e-01, -3.96181732e-01],\n",
       "       [-6.76476867e-01, -6.43848880e-01, -3.88696334e-01],\n",
       "       [-6.52996932e-01, -6.40513218e-01, -3.62976246e-01],\n",
       "       [-6.41925510e-01, -6.35881156e-01, -3.28576749e-01],\n",
       "       [-6.33460369e-01, -6.30558867e-01, -2.99557717e-01],\n",
       "       [-6.27566978e-01, -6.23303569e-01, -2.68547384e-01],\n",
       "       [-6.19937620e-01, -6.16124674e-01, -2.35061711e-01],\n",
       "       [-6.11059433e-01, -6.06335990e-01, -2.07669561e-01],\n",
       "       [-6.04130500e-01, -5.94477810e-01, -1.83407078e-01],\n",
       "       [-5.93183183e-01, -5.84971162e-01, -1.61115655e-01],\n",
       "       [-5.84200312e-01, -5.72837788e-01, -1.42025782e-01],\n",
       "       [-5.73238077e-01, -5.62200387e-01, -1.21836121e-01],\n",
       "       [-5.62699671e-01, -5.49623722e-01, -1.04772378e-01],\n",
       "       [-5.50390120e-01, -5.32416917e-01, -9.19047709e-02],\n",
       "       [-5.39836699e-01, -5.15346029e-01, -7.70188413e-02],\n",
       "       [-5.15129026e-01, -4.99186352e-01, -6.36365503e-02],\n",
       "       [-4.97261576e-01, -4.84376271e-01, -5.36716298e-02],\n",
       "       [-4.72228373e-01, -4.65386796e-01, -4.34068314e-02],\n",
       "       [-4.42636396e-01, -4.39355950e-01, -2.99177094e-02],\n",
       "       [-4.19228589e-01, -4.21848966e-01, -2.32608158e-02],\n",
       "       [-3.83179783e-01, -3.76674319e-01, -1.37774078e-02],\n",
       "       [-3.55017507e-01, -3.44956805e-01, -2.45024269e-03],\n",
       "       [-3.16014011e-01, -3.14090074e-01,  1.31950004e-02],\n",
       "       [-2.78755572e-01, -2.78543815e-01,  2.22837002e-02],\n",
       "       [-2.38808263e-01, -2.42649653e-01,  3.40932091e-02],\n",
       "       [-2.00123421e-01, -2.04907109e-01,  4.43633336e-02],\n",
       "       [-1.55313988e-01, -1.51636299e-01,  5.11023503e-02],\n",
       "       [-1.03560737e-01, -1.01115602e-01,  6.07745256e-02],\n",
       "       [-5.16078314e-02, -5.19385941e-02,  7.70423681e-02],\n",
       "       [-6.02331502e-03, -7.56133012e-03,  9.93760619e-02],\n",
       "       [ 3.98194741e-02,  4.30978283e-02,  1.00946681e-01],\n",
       "       [ 8.71008406e-02,  8.71604531e-02,  1.32857226e-01],\n",
       "       [ 1.38001308e-01,  1.36218559e-01,  1.50654683e-01],\n",
       "       [ 1.86239613e-01,  1.90706807e-01,  1.74836572e-01],\n",
       "       [ 2.35699527e-01,  2.40746765e-01,  1.98465065e-01],\n",
       "       [ 2.79553624e-01,  2.87895389e-01,  2.19914237e-01],\n",
       "       [ 3.18727830e-01,  3.25443372e-01,  2.42773168e-01],\n",
       "       [ 3.59997039e-01,  3.61940891e-01,  2.76465954e-01],\n",
       "       [ 4.02914289e-01,  4.01949102e-01,  3.03287447e-01],\n",
       "       [ 4.46352136e-01,  4.38896662e-01,  3.31158517e-01],\n",
       "       [ 4.89999944e-01,  4.75334900e-01,  3.60028998e-01],\n",
       "       [ 5.28134261e-01,  5.09619405e-01,  3.84348210e-01],\n",
       "       [ 5.63718855e-01,  5.40541792e-01,  4.13752494e-01],\n",
       "       [ 5.90677097e-01,  5.67045333e-01,  4.32444675e-01],\n",
       "       [ 6.18726063e-01,  5.91502499e-01,  4.53435955e-01],\n",
       "       [ 6.54459090e-01,  6.15707378e-01,  4.81268770e-01],\n",
       "       [ 6.82284701e-01,  6.41257612e-01,  5.12362438e-01],\n",
       "       [ 7.11418374e-01,  6.65982149e-01,  5.37632054e-01],\n",
       "       [ 7.37275270e-01,  6.91052551e-01,  5.58294718e-01],\n",
       "       [ 7.57584220e-01,  7.11243769e-01,  5.81100372e-01],\n",
       "       [ 7.75756329e-01,  7.35491137e-01,  5.97329054e-01],\n",
       "       [ 7.93160925e-01,  7.51908917e-01,  6.18450644e-01],\n",
       "       [ 8.13111093e-01,  7.67818623e-01,  6.37160644e-01],\n",
       "       [ 8.35706326e-01,  7.85262249e-01,  6.62479935e-01],\n",
       "       [ 8.54574814e-01,  8.05361623e-01,  6.82628132e-01],\n",
       "       [ 8.76325228e-01,  8.22895054e-01,  6.98720052e-01],\n",
       "       [ 8.91323089e-01,  8.37835779e-01,  7.12810351e-01],\n",
       "       [ 9.01576388e-01,  8.53290630e-01,  7.30543244e-01],\n",
       "       [ 9.13323521e-01,  8.66126244e-01,  7.42370972e-01],\n",
       "       [ 9.28383872e-01,  8.79563632e-01,  7.60178214e-01],\n",
       "       [ 9.41989707e-01,  8.92371776e-01,  7.74968328e-01],\n",
       "       [ 9.55266771e-01,  9.06151187e-01,  7.88587017e-01],\n",
       "       [ 9.67302079e-01,  9.20065130e-01,  8.11171678e-01],\n",
       "       [ 9.78704679e-01,  9.33259136e-01,  8.22978491e-01],\n",
       "       [ 9.85381270e-01,  9.44362323e-01,  8.34696565e-01],\n",
       "       [ 9.93393240e-01,  9.54437317e-01,  8.45678886e-01],\n",
       "       [ 1.00432152e+00,  9.64968569e-01,  8.58425035e-01],\n",
       "       [ 1.01577360e+00,  9.75467208e-01,  8.73669736e-01],\n",
       "       [ 1.02501620e+00,  9.87009872e-01,  8.96427072e-01],\n",
       "       [ 1.03335303e+00,  9.98784252e-01,  9.09144226e-01],\n",
       "       [ 1.04140840e+00,  1.00940443e+00,  9.22088798e-01],\n",
       "       [ 1.04697774e+00,  1.01941338e+00,  9.31956880e-01],\n",
       "       [ 1.05307564e+00,  1.02885411e+00,  9.43131382e-01],\n",
       "       [ 1.06146099e+00,  1.03849224e+00,  9.53558987e-01],\n",
       "       [ 1.07096060e+00,  1.04953012e+00,  9.66556557e-01],\n",
       "       [ 1.07897252e+00,  1.05987199e+00,  9.77157279e-01],\n",
       "       [ 1.08629833e+00,  1.07027592e+00,  9.86918015e-01],\n",
       "       [ 1.09225595e+00,  1.07974179e+00,  1.00046265e+00],\n",
       "       [ 1.09677950e+00,  1.08812608e+00,  1.00863180e+00],\n",
       "       [ 1.10154047e+00,  1.09615504e+00,  1.01987372e+00],\n",
       "       [ 1.10880157e+00,  1.10490899e+00,  1.02847580e+00],\n",
       "       [ 1.11547531e+00,  1.11359508e+00,  1.04083672e+00],\n",
       "       [ 1.12199002e+00,  1.12308809e+00,  1.04939196e+00],\n",
       "       [ 1.12842605e+00,  1.13286657e+00,  1.05979093e+00],\n",
       "       [ 1.13339627e+00,  1.14163172e+00,  1.07128578e+00],\n",
       "       [ 1.13745839e+00,  1.14909460e+00,  1.07939781e+00],\n",
       "       [ 1.14135004e+00,  1.15723417e+00,  1.08964693e+00],\n",
       "       [ 1.14695068e+00,  1.16587276e+00,  1.09945013e+00],\n",
       "       [ 1.15249835e+00,  1.17464562e+00,  1.11012251e+00],\n",
       "       [ 1.15794135e+00,  1.18384589e+00,  1.11921384e+00],\n",
       "       [ 1.16377896e+00,  1.19306250e+00,  1.13758956e+00],\n",
       "       [ 1.16810909e+00,  1.20135943e+00,  1.14667569e+00],\n",
       "       [ 1.17133413e+00,  1.20931631e+00,  1.15565744e+00],\n",
       "       [ 1.17260365e+00,  1.21634987e+00,  1.16544869e+00],\n",
       "       [ 1.17713667e+00,  1.22383100e+00,  1.17378234e+00]])"
      ]
     },
     "execution_count": 246,
     "metadata": {},
     "output_type": "execute_result"
    }
   ],
   "source": [
    "x_input_f"
   ]
  },
  {
   "cell_type": "code",
   "execution_count": 247,
   "metadata": {},
   "outputs": [],
   "source": [
    "from sklearn.model_selection import train_test_split\n",
    "from sklearn.metrics import mean_absolute_error, mean_squared_error, r2_score\n",
    "from sklearn import linear_model"
   ]
  },
  {
   "cell_type": "code",
   "execution_count": 249,
   "metadata": {},
   "outputs": [],
   "source": [
    "# Converting into input and target variable\n",
    "x = x_input_f[:, 1:]\n",
    "y = x_input_f[:,0]\n"
   ]
  },
  {
   "cell_type": "code",
   "execution_count": 250,
   "metadata": {},
   "outputs": [
    {
     "data": {
      "text/plain": [
       "(126, 2)"
      ]
     },
     "execution_count": 250,
     "metadata": {},
     "output_type": "execute_result"
    }
   ],
   "source": [
    "x.shape"
   ]
  },
  {
   "cell_type": "code",
   "execution_count": 251,
   "metadata": {},
   "outputs": [
    {
     "data": {
      "text/plain": [
       "(126,)"
      ]
     },
     "execution_count": 251,
     "metadata": {},
     "output_type": "execute_result"
    }
   ],
   "source": [
    "y.shape"
   ]
  },
  {
   "cell_type": "code",
   "execution_count": null,
   "metadata": {},
   "outputs": [],
   "source": []
  },
  {
   "cell_type": "code",
   "execution_count": 254,
   "metadata": {},
   "outputs": [
    {
     "name": "stdout",
     "output_type": "stream",
     "text": [
      "\n",
      "r2 score corresponding to state:  42  is:  0.9937991903880091\n",
      "\n",
      "r2 score corresponding to state:  43  is:  0.9947286981504047\n",
      "\n",
      "r2 score corresponding to state:  44  is:  0.9974516874910926\n",
      "\n",
      "r2 score corresponding to state:  45  is:  0.9933890436220568\n",
      "\n",
      "r2 score corresponding to state:  46  is:  0.9944484893194602\n",
      "\n",
      "r2 score corresponding to state:  47  is:  0.9940461756677811\n",
      "\n",
      "r2 score corresponding to state:  48  is:  0.996995543281997\n",
      "\n",
      "r2 score corresponding to state:  49  is:  0.9931978895419556\n",
      "\n",
      "r2 score corresponding to state:  50  is:  0.9942020662021697\n",
      "\n",
      "r2 score corresponding to state:  51  is:  0.996640362609703\n",
      "\n",
      "r2 score corresponding to state:  52  is:  0.9949234966577032\n",
      "\n",
      "r2 score corresponding to state:  53  is:  0.9904577133254819\n",
      "\n",
      "r2 score corresponding to state:  54  is:  0.9945350010392464\n",
      "\n",
      "r2 score corresponding to state:  55  is:  0.9956638393468649\n",
      "\n",
      "r2 score corresponding to state:  56  is:  0.994831956531063\n",
      "\n",
      "r2 score corresponding to state:  57  is:  0.9940729411369357\n",
      "\n",
      "r2 score corresponding to state:  58  is:  0.9965441522701936\n",
      "\n",
      "r2 score corresponding to state:  59  is:  0.9960233921192893\n",
      "\n",
      "r2 score corresponding to state:  60  is:  0.9935839961153103\n",
      "\n",
      "r2 score corresponding to state:  61  is:  0.991282724988956\n",
      "\n",
      "r2 score corresponding to state:  62  is:  0.9977305630650278\n",
      "\n",
      "r2 score corresponding to state:  63  is:  0.9978508666824074\n",
      "\n",
      "r2 score corresponding to state:  64  is:  0.9960143705984219\n",
      "\n",
      "r2 score corresponding to state:  65  is:  0.9974319619115767\n",
      "\n",
      "r2 score corresponding to state:  66  is:  0.9933731707033342\n",
      "\n",
      "r2 score corresponding to state:  67  is:  0.9939043098046634\n",
      "\n",
      "r2 score corresponding to state:  68  is:  0.9966763176025933\n",
      "\n",
      "r2 score corresponding to state:  69  is:  0.9956151959316227\n",
      "\n",
      "r2 score corresponding to state:  70  is:  0.9954655781686943\n",
      "\n",
      "r2 score corresponding to state:  71  is:  0.9972377314236497\n",
      "\n",
      "r2 score corresponding to state:  72  is:  0.9940985725244802\n",
      "\n",
      "r2 score corresponding to state:  73  is:  0.9958479946290906\n",
      "\n",
      "r2 score corresponding to state:  74  is:  0.9960114796349778\n",
      "\n",
      "r2 score corresponding to state:  75  is:  0.9949849542340263\n",
      "\n",
      "r2 score corresponding to state:  76  is:  0.9943935975208706\n",
      "\n",
      "r2 score corresponding to state:  77  is:  0.9964744493398472\n",
      "\n",
      "r2 score corresponding to state:  78  is:  0.9948972865884872\n",
      "\n",
      "r2 score corresponding to state:  79  is:  0.9960536558982588\n",
      "\n",
      "r2 score corresponding to state:  80  is:  0.9931466259493243\n",
      "\n",
      "r2 score corresponding to state:  81  is:  0.9958921642428378\n",
      "\n",
      "r2 score corresponding to state:  82  is:  0.9929573807787643\n",
      "\n",
      "r2 score corresponding to state:  83  is:  0.9973416649259911\n",
      "\n",
      "r2 score corresponding to state:  84  is:  0.9960456934479884\n",
      "\n",
      "r2 score corresponding to state:  85  is:  0.9940806687811846\n",
      "\n",
      "r2 score corresponding to state:  86  is:  0.9959869373925092\n",
      "\n",
      "r2 score corresponding to state:  87  is:  0.9944824655736988\n",
      "\n",
      "r2 score corresponding to state:  88  is:  0.9974563274167576\n",
      "\n",
      "r2 score corresponding to state:  89  is:  0.9954623811202058\n",
      "\n",
      "r2 score corresponding to state:  90  is:  0.9957325251062727\n",
      "\n",
      "r2 score corresponding to state:  91  is:  0.9944508863137697\n",
      "\n",
      "r2 score corresponding to state:  92  is:  0.995784105214028\n",
      "\n",
      "r2 score corresponding to state:  93  is:  0.9940824906317041\n",
      "\n",
      "r2 score corresponding to state:  94  is:  0.9931798847348674\n",
      "\n",
      "r2 score corresponding to state:  95  is:  0.9947866644322985\n",
      "\n",
      "r2 score corresponding to state:  96  is:  0.9955656185940243\n",
      "\n",
      "r2 score corresponding to state:  97  is:  0.9948010083159864\n",
      "\n",
      "r2 score corresponding to state:  98  is:  0.9964124754832346\n",
      "\n",
      "r2 score corresponding to state:  99  is:  0.9955901748642704\n",
      "\n",
      "Max r2 score corresponding to  63  is:  0.9978508666824074\n"
     ]
    }
   ],
   "source": [
    "# Subroutine to get the best random state with max r2_score\n",
    "max_r2_score = 0\n",
    "for r_state in range (42, 100):\n",
    "    \n",
    "    x_train, x_test, y_train, y_test = train_test_split(x, y, random_state=r_state, test_size=.20)\n",
    "    \n",
    "    regr = linear_model.LinearRegression()\n",
    "    regr.fit(x_train, y_train)\n",
    "    y_pred = regr.predict(x_test)\n",
    "    r2_scr = r2_score(y_test, y_pred)\n",
    "    \n",
    "    \n",
    "    print (\"\\nr2 score corresponding to state: \", r_state, \" is: \", r2_scr)\n",
    "    if (r2_scr > max_r2_score):\n",
    "        max_r2_score = r2_scr\n",
    "        final_r_state = r_state\n",
    "print (\"\\nMax r2 score corresponding to \", final_r_state, \" is: \", max_r2_score)\n"
   ]
  },
  {
   "cell_type": "code",
   "execution_count": 259,
   "metadata": {},
   "outputs": [
    {
     "data": {
      "text/plain": [
       "0.8215518676850273"
      ]
     },
     "execution_count": 259,
     "metadata": {},
     "output_type": "execute_result"
    }
   ],
   "source": [
    "# Further chceking with cross validation\n",
    "from sklearn.model_selection import cross_val_score\n",
    "cross_val_score(linear_model.LinearRegression(), x, y, cv=3, scoring=\"r2\").mean()"
   ]
  },
  {
   "cell_type": "code",
   "execution_count": 260,
   "metadata": {},
   "outputs": [],
   "source": [
    "# Applying the algorithm with best random state\n",
    "x_train, x_test, y_train, y_test = train_test_split(x, y, random_state=63, test_size=.20)\n",
    "lr = linear_model.LinearRegression()\n",
    "lr.fit(x_train, y_train)\n",
    "y_pred = lr.predict(x_test)"
   ]
  },
  {
   "cell_type": "code",
   "execution_count": 262,
   "metadata": {},
   "outputs": [
    {
     "name": "stdout",
     "output_type": "stream",
     "text": [
      "\n",
      " r2 score is:  0.9978508666824074\n",
      "\n",
      " RMSE is:  0.03677771745119317\n"
     ]
    }
   ],
   "source": [
    "# Evaluate r2_score and RMSE\n",
    "print(\"\\n r2 score is: \", r2_score(y_test, y_pred))\n",
    "print(\"\\n RMSE is: \", np.sqrt(mean_squared_error(y_test, y_pred)))"
   ]
  },
  {
   "cell_type": "code",
   "execution_count": 264,
   "metadata": {},
   "outputs": [
    {
     "data": {
      "text/plain": [
       "LinearRegression(copy_X=True, fit_intercept=True, n_jobs=None, normalize=False)"
      ]
     },
     "execution_count": 264,
     "metadata": {},
     "output_type": "execute_result"
    }
   ],
   "source": [
    "# Saving the file with joblib\n",
    "import joblib\n",
    "\n",
    "joblib.dump(lr,'Project19_c.pkl')\n",
    "clf = joblib.load('Project19_c.pkl')\n",
    "clf"
   ]
  },
  {
   "cell_type": "code",
   "execution_count": 265,
   "metadata": {},
   "outputs": [
    {
     "data": {
      "text/plain": [
       "array([-0.57870626,  0.73144041,  1.0989905 , -0.64018596, -0.37190787,\n",
       "        0.5882921 ,  1.11707628,  0.9701858 ,  0.81839954,  0.4000276 ,\n",
       "       -0.55599154,  1.05418699, -0.14892723, -0.50941996,  0.87475984,\n",
       "        0.13637296,  1.20990006, -0.30985427, -0.23906558, -0.62986126,\n",
       "       -0.65724653, -0.66032553,  0.50694613, -1.4609947 ,  1.107643  ,\n",
       "        1.16837573])"
      ]
     },
     "execution_count": 265,
     "metadata": {},
     "output_type": "execute_result"
    }
   ],
   "source": [
    "\n",
    "clf.predict(x_test)"
   ]
  },
  {
   "cell_type": "code",
   "execution_count": null,
   "metadata": {},
   "outputs": [],
   "source": []
  },
  {
   "cell_type": "code",
   "execution_count": null,
   "metadata": {},
   "outputs": [],
   "source": []
  },
  {
   "cell_type": "code",
   "execution_count": null,
   "metadata": {},
   "outputs": [],
   "source": []
  },
  {
   "cell_type": "code",
   "execution_count": null,
   "metadata": {},
   "outputs": [],
   "source": []
  },
  {
   "cell_type": "code",
   "execution_count": null,
   "metadata": {},
   "outputs": [],
   "source": []
  },
  {
   "cell_type": "code",
   "execution_count": null,
   "metadata": {},
   "outputs": [],
   "source": []
  },
  {
   "cell_type": "code",
   "execution_count": null,
   "metadata": {},
   "outputs": [],
   "source": []
  },
  {
   "cell_type": "code",
   "execution_count": null,
   "metadata": {},
   "outputs": [],
   "source": []
  },
  {
   "cell_type": "code",
   "execution_count": null,
   "metadata": {},
   "outputs": [],
   "source": []
  },
  {
   "cell_type": "code",
   "execution_count": null,
   "metadata": {},
   "outputs": [],
   "source": []
  },
  {
   "cell_type": "code",
   "execution_count": null,
   "metadata": {},
   "outputs": [],
   "source": []
  },
  {
   "cell_type": "code",
   "execution_count": null,
   "metadata": {},
   "outputs": [],
   "source": []
  },
  {
   "cell_type": "code",
   "execution_count": null,
   "metadata": {},
   "outputs": [],
   "source": []
  },
  {
   "cell_type": "code",
   "execution_count": null,
   "metadata": {},
   "outputs": [],
   "source": []
  },
  {
   "cell_type": "code",
   "execution_count": null,
   "metadata": {},
   "outputs": [],
   "source": []
  },
  {
   "cell_type": "code",
   "execution_count": null,
   "metadata": {},
   "outputs": [],
   "source": []
  },
  {
   "cell_type": "code",
   "execution_count": null,
   "metadata": {},
   "outputs": [],
   "source": []
  },
  {
   "cell_type": "code",
   "execution_count": null,
   "metadata": {},
   "outputs": [],
   "source": []
  },
  {
   "cell_type": "code",
   "execution_count": null,
   "metadata": {},
   "outputs": [],
   "source": []
  },
  {
   "cell_type": "code",
   "execution_count": null,
   "metadata": {},
   "outputs": [],
   "source": []
  },
  {
   "cell_type": "code",
   "execution_count": null,
   "metadata": {},
   "outputs": [],
   "source": []
  },
  {
   "cell_type": "code",
   "execution_count": null,
   "metadata": {},
   "outputs": [],
   "source": []
  },
  {
   "cell_type": "code",
   "execution_count": null,
   "metadata": {},
   "outputs": [],
   "source": []
  },
  {
   "cell_type": "code",
   "execution_count": null,
   "metadata": {},
   "outputs": [],
   "source": []
  },
  {
   "cell_type": "code",
   "execution_count": null,
   "metadata": {},
   "outputs": [],
   "source": []
  },
  {
   "cell_type": "code",
   "execution_count": null,
   "metadata": {},
   "outputs": [],
   "source": []
  },
  {
   "cell_type": "code",
   "execution_count": null,
   "metadata": {},
   "outputs": [],
   "source": []
  },
  {
   "cell_type": "code",
   "execution_count": null,
   "metadata": {},
   "outputs": [],
   "source": []
  },
  {
   "cell_type": "code",
   "execution_count": null,
   "metadata": {},
   "outputs": [],
   "source": []
  },
  {
   "cell_type": "code",
   "execution_count": null,
   "metadata": {},
   "outputs": [],
   "source": []
  },
  {
   "cell_type": "code",
   "execution_count": null,
   "metadata": {},
   "outputs": [],
   "source": []
  },
  {
   "cell_type": "code",
   "execution_count": null,
   "metadata": {},
   "outputs": [],
   "source": []
  },
  {
   "cell_type": "code",
   "execution_count": null,
   "metadata": {},
   "outputs": [],
   "source": []
  },
  {
   "cell_type": "code",
   "execution_count": null,
   "metadata": {},
   "outputs": [],
   "source": []
  },
  {
   "cell_type": "code",
   "execution_count": null,
   "metadata": {},
   "outputs": [],
   "source": []
  },
  {
   "cell_type": "code",
   "execution_count": null,
   "metadata": {},
   "outputs": [],
   "source": []
  },
  {
   "cell_type": "code",
   "execution_count": null,
   "metadata": {},
   "outputs": [],
   "source": []
  },
  {
   "cell_type": "code",
   "execution_count": null,
   "metadata": {},
   "outputs": [],
   "source": []
  },
  {
   "cell_type": "code",
   "execution_count": null,
   "metadata": {},
   "outputs": [],
   "source": []
  },
  {
   "cell_type": "code",
   "execution_count": null,
   "metadata": {},
   "outputs": [],
   "source": []
  },
  {
   "cell_type": "code",
   "execution_count": null,
   "metadata": {},
   "outputs": [],
   "source": []
  },
  {
   "cell_type": "code",
   "execution_count": null,
   "metadata": {},
   "outputs": [],
   "source": []
  },
  {
   "cell_type": "code",
   "execution_count": null,
   "metadata": {},
   "outputs": [],
   "source": []
  },
  {
   "cell_type": "code",
   "execution_count": null,
   "metadata": {},
   "outputs": [],
   "source": []
  },
  {
   "cell_type": "code",
   "execution_count": null,
   "metadata": {},
   "outputs": [],
   "source": []
  },
  {
   "cell_type": "code",
   "execution_count": null,
   "metadata": {},
   "outputs": [],
   "source": []
  },
  {
   "cell_type": "code",
   "execution_count": null,
   "metadata": {},
   "outputs": [],
   "source": []
  },
  {
   "cell_type": "code",
   "execution_count": null,
   "metadata": {},
   "outputs": [],
   "source": []
  },
  {
   "cell_type": "code",
   "execution_count": null,
   "metadata": {},
   "outputs": [],
   "source": []
  },
  {
   "cell_type": "code",
   "execution_count": null,
   "metadata": {},
   "outputs": [],
   "source": []
  },
  {
   "cell_type": "code",
   "execution_count": null,
   "metadata": {},
   "outputs": [],
   "source": []
  },
  {
   "cell_type": "code",
   "execution_count": null,
   "metadata": {},
   "outputs": [],
   "source": []
  },
  {
   "cell_type": "code",
   "execution_count": null,
   "metadata": {},
   "outputs": [],
   "source": []
  },
  {
   "cell_type": "code",
   "execution_count": null,
   "metadata": {},
   "outputs": [],
   "source": []
  },
  {
   "cell_type": "code",
   "execution_count": null,
   "metadata": {},
   "outputs": [],
   "source": []
  },
  {
   "cell_type": "code",
   "execution_count": null,
   "metadata": {},
   "outputs": [],
   "source": []
  },
  {
   "cell_type": "code",
   "execution_count": null,
   "metadata": {},
   "outputs": [],
   "source": []
  },
  {
   "cell_type": "code",
   "execution_count": null,
   "metadata": {},
   "outputs": [],
   "source": []
  },
  {
   "cell_type": "code",
   "execution_count": null,
   "metadata": {},
   "outputs": [],
   "source": []
  },
  {
   "cell_type": "code",
   "execution_count": null,
   "metadata": {},
   "outputs": [],
   "source": []
  },
  {
   "cell_type": "code",
   "execution_count": null,
   "metadata": {},
   "outputs": [],
   "source": []
  },
  {
   "cell_type": "code",
   "execution_count": null,
   "metadata": {},
   "outputs": [],
   "source": []
  },
  {
   "cell_type": "code",
   "execution_count": null,
   "metadata": {},
   "outputs": [],
   "source": []
  },
  {
   "cell_type": "code",
   "execution_count": null,
   "metadata": {},
   "outputs": [],
   "source": []
  },
  {
   "cell_type": "code",
   "execution_count": null,
   "metadata": {},
   "outputs": [],
   "source": []
  },
  {
   "cell_type": "code",
   "execution_count": null,
   "metadata": {},
   "outputs": [],
   "source": []
  },
  {
   "cell_type": "code",
   "execution_count": null,
   "metadata": {},
   "outputs": [],
   "source": []
  },
  {
   "cell_type": "code",
   "execution_count": null,
   "metadata": {},
   "outputs": [],
   "source": []
  },
  {
   "cell_type": "code",
   "execution_count": null,
   "metadata": {},
   "outputs": [],
   "source": []
  },
  {
   "cell_type": "code",
   "execution_count": null,
   "metadata": {},
   "outputs": [],
   "source": []
  },
  {
   "cell_type": "code",
   "execution_count": null,
   "metadata": {},
   "outputs": [],
   "source": []
  },
  {
   "cell_type": "code",
   "execution_count": null,
   "metadata": {},
   "outputs": [],
   "source": []
  },
  {
   "cell_type": "code",
   "execution_count": null,
   "metadata": {},
   "outputs": [],
   "source": []
  },
  {
   "cell_type": "code",
   "execution_count": null,
   "metadata": {},
   "outputs": [],
   "source": []
  },
  {
   "cell_type": "code",
   "execution_count": null,
   "metadata": {},
   "outputs": [],
   "source": []
  },
  {
   "cell_type": "code",
   "execution_count": null,
   "metadata": {},
   "outputs": [],
   "source": []
  },
  {
   "cell_type": "code",
   "execution_count": null,
   "metadata": {},
   "outputs": [],
   "source": []
  },
  {
   "cell_type": "code",
   "execution_count": null,
   "metadata": {},
   "outputs": [],
   "source": []
  },
  {
   "cell_type": "code",
   "execution_count": null,
   "metadata": {},
   "outputs": [],
   "source": []
  },
  {
   "cell_type": "code",
   "execution_count": null,
   "metadata": {},
   "outputs": [],
   "source": []
  },
  {
   "cell_type": "code",
   "execution_count": null,
   "metadata": {},
   "outputs": [],
   "source": []
  },
  {
   "cell_type": "code",
   "execution_count": null,
   "metadata": {},
   "outputs": [],
   "source": []
  },
  {
   "cell_type": "code",
   "execution_count": null,
   "metadata": {},
   "outputs": [],
   "source": []
  },
  {
   "cell_type": "code",
   "execution_count": null,
   "metadata": {},
   "outputs": [],
   "source": []
  },
  {
   "cell_type": "code",
   "execution_count": null,
   "metadata": {},
   "outputs": [],
   "source": []
  },
  {
   "cell_type": "code",
   "execution_count": null,
   "metadata": {},
   "outputs": [],
   "source": []
  },
  {
   "cell_type": "code",
   "execution_count": null,
   "metadata": {},
   "outputs": [],
   "source": []
  },
  {
   "cell_type": "code",
   "execution_count": null,
   "metadata": {},
   "outputs": [],
   "source": []
  },
  {
   "cell_type": "code",
   "execution_count": null,
   "metadata": {},
   "outputs": [],
   "source": []
  },
  {
   "cell_type": "code",
   "execution_count": null,
   "metadata": {},
   "outputs": [],
   "source": []
  },
  {
   "cell_type": "code",
   "execution_count": null,
   "metadata": {},
   "outputs": [],
   "source": []
  },
  {
   "cell_type": "code",
   "execution_count": null,
   "metadata": {},
   "outputs": [],
   "source": []
  },
  {
   "cell_type": "code",
   "execution_count": null,
   "metadata": {},
   "outputs": [],
   "source": []
  },
  {
   "cell_type": "code",
   "execution_count": null,
   "metadata": {},
   "outputs": [],
   "source": []
  },
  {
   "cell_type": "code",
   "execution_count": null,
   "metadata": {},
   "outputs": [],
   "source": []
  },
  {
   "cell_type": "code",
   "execution_count": null,
   "metadata": {},
   "outputs": [],
   "source": []
  },
  {
   "cell_type": "code",
   "execution_count": null,
   "metadata": {},
   "outputs": [],
   "source": []
  },
  {
   "cell_type": "code",
   "execution_count": null,
   "metadata": {},
   "outputs": [],
   "source": []
  },
  {
   "cell_type": "code",
   "execution_count": null,
   "metadata": {},
   "outputs": [],
   "source": []
  },
  {
   "cell_type": "code",
   "execution_count": null,
   "metadata": {},
   "outputs": [],
   "source": []
  }
 ],
 "metadata": {
  "kernelspec": {
   "display_name": "Python 3",
   "language": "python",
   "name": "python3"
  },
  "language_info": {
   "codemirror_mode": {
    "name": "ipython",
    "version": 3
   },
   "file_extension": ".py",
   "mimetype": "text/x-python",
   "name": "python",
   "nbconvert_exporter": "python",
   "pygments_lexer": "ipython3",
   "version": "3.7.6"
  }
 },
 "nbformat": 4,
 "nbformat_minor": 4
}
